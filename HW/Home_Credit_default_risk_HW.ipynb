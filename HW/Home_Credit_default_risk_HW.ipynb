{
  "nbformat": 4,
  "nbformat_minor": 0,
  "metadata": {
    "colab": {
      "name": "Home_Credit_default_risk_HW.ipynb",
      "provenance": [],
      "collapsed_sections": [],
      "authorship_tag": "ABX9TyN3ogflF9KzFurTL3fc8f4L",
      "include_colab_link": true
    },
    "kernelspec": {
      "name": "python3",
      "display_name": "Python 3"
    }
  },
  "cells": [
    {
      "cell_type": "markdown",
      "metadata": {
        "id": "view-in-github",
        "colab_type": "text"
      },
      "source": [
        "<a href=\"https://colab.research.google.com/github/Shaheer-Khan/AISem3/blob/master/HW/Home_Credit_default_risk_HW.ipynb\" target=\"_parent\"><img src=\"https://colab.research.google.com/assets/colab-badge.svg\" alt=\"Open In Colab\"/></a>"
      ]
    },
    {
      "cell_type": "code",
      "metadata": {
        "id": "i4p6mvCFDEzi",
        "colab_type": "code",
        "colab": {
          "base_uri": "https://localhost:8080/",
          "height": 69
        },
        "outputId": "3887f33a-f83e-4b11-937f-31483e3e2fa6"
      },
      "source": [
        "!pip install xgboost"
      ],
      "execution_count": 42,
      "outputs": [
        {
          "output_type": "stream",
          "text": [
            "Requirement already satisfied: xgboost in /usr/local/lib/python3.6/dist-packages (0.90)\n",
            "Requirement already satisfied: numpy in /usr/local/lib/python3.6/dist-packages (from xgboost) (1.18.5)\n",
            "Requirement already satisfied: scipy in /usr/local/lib/python3.6/dist-packages (from xgboost) (1.4.1)\n"
          ],
          "name": "stdout"
        }
      ]
    },
    {
      "cell_type": "code",
      "metadata": {
        "id": "QaSddojaOOkY",
        "colab_type": "code",
        "colab": {}
      },
      "source": [
        "#data.set_index(\"SK_ID_CURR\",\n",
        "#               drop=True,\n",
        "#               inplace=True)\n",
        "\n",
        "#test.set_index(\"SK_ID_CURR\",\n",
        "#               drop=True,\n",
        "#               inplace=True)\n",
        "\n",
        "#full_set = pd.concat([data, test])"
      ],
      "execution_count": null,
      "outputs": []
    },
    {
      "cell_type": "code",
      "metadata": {
        "id": "5nVtlvnDOQws",
        "colab_type": "code",
        "colab": {}
      },
      "source": [
        "!pip install kaggle"
      ],
      "execution_count": null,
      "outputs": []
    },
    {
      "cell_type": "code",
      "metadata": {
        "id": "HKvIyI-qOWqb",
        "colab_type": "code",
        "colab": {
          "resources": {
            "http://localhost:8080/nbextensions/google.colab/files.js": {
              "data": "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",
              "ok": true,
              "headers": [
                [
                  "content-type",
                  "application/javascript"
                ]
              ],
              "status": 200,
              "status_text": ""
            }
          },
          "base_uri": "https://localhost:8080/",
          "height": 91
        },
        "outputId": "f65dae25-3f95-49ca-932f-d65ea22d8a74"
      },
      "source": [
        "from google.colab import files\n",
        "files.upload()"
      ],
      "execution_count": null,
      "outputs": [
        {
          "output_type": "display_data",
          "data": {
            "text/html": [
              "\n",
              "     <input type=\"file\" id=\"files-0485bc32-a977-4f7e-bd7a-39269f7fe2eb\" name=\"files[]\" multiple disabled\n",
              "        style=\"border:none\" />\n",
              "     <output id=\"result-0485bc32-a977-4f7e-bd7a-39269f7fe2eb\">\n",
              "      Upload widget is only available when the cell has been executed in the\n",
              "      current browser session. Please rerun this cell to enable.\n",
              "      </output>\n",
              "      <script src=\"/nbextensions/google.colab/files.js\"></script> "
            ],
            "text/plain": [
              "<IPython.core.display.HTML object>"
            ]
          },
          "metadata": {
            "tags": []
          }
        },
        {
          "output_type": "stream",
          "text": [
            "Saving kaggle.json to kaggle.json\n"
          ],
          "name": "stdout"
        },
        {
          "output_type": "execute_result",
          "data": {
            "text/plain": [
              "{'kaggle.json': b'{\"username\":\"shaheersk\",\"key\":\"7d251b05c20db9fd4c81f313f4770bcd\"}'}"
            ]
          },
          "metadata": {
            "tags": []
          },
          "execution_count": 1
        }
      ]
    },
    {
      "cell_type": "code",
      "metadata": {
        "id": "SvQLrbVYOaVf",
        "colab_type": "code",
        "colab": {}
      },
      "source": [
        "!mkdir -p ~/.kaggle\n",
        "!cp kaggle.json ~/.kaggle/\n",
        "\n",
        "!chmod 600 ~/.kaggle/kaggle.json"
      ],
      "execution_count": null,
      "outputs": []
    },
    {
      "cell_type": "code",
      "metadata": {
        "id": "yswQMK4dOhgG",
        "colab_type": "code",
        "colab": {
          "base_uri": "https://localhost:8080/",
          "height": 453
        },
        "outputId": "533afd01-0418-4ecd-ce3c-034bca6d91d5"
      },
      "source": [
        "!pip uninstall -y kaggle\n",
        "!pip install —upgrade pip\n",
        "!pip install kaggle==1.5.6\n",
        "!kaggle -v"
      ],
      "execution_count": null,
      "outputs": [
        {
          "output_type": "stream",
          "text": [
            "Uninstalling kaggle-1.5.6:\n",
            "  Successfully uninstalled kaggle-1.5.6\n",
            "\u001b[31mERROR: Invalid requirement: '—upgrade'\u001b[0m\n",
            "Collecting kaggle==1.5.6\n",
            "\u001b[?25l  Downloading https://files.pythonhosted.org/packages/62/ab/bb20f9b9e24f9a6250f95a432f8d9a7d745f8d24039d7a5a6eaadb7783ba/kaggle-1.5.6.tar.gz (58kB)\n",
            "\u001b[K     |████████████████████████████████| 61kB 2.2MB/s \n",
            "\u001b[?25hRequirement already satisfied: urllib3<1.25,>=1.21.1 in /usr/local/lib/python3.6/dist-packages (from kaggle==1.5.6) (1.24.3)\n",
            "Requirement already satisfied: six>=1.10 in /usr/local/lib/python3.6/dist-packages (from kaggle==1.5.6) (1.12.0)\n",
            "Requirement already satisfied: certifi in /usr/local/lib/python3.6/dist-packages (from kaggle==1.5.6) (2020.6.20)\n",
            "Requirement already satisfied: python-dateutil in /usr/local/lib/python3.6/dist-packages (from kaggle==1.5.6) (2.8.1)\n",
            "Requirement already satisfied: requests in /usr/local/lib/python3.6/dist-packages (from kaggle==1.5.6) (2.23.0)\n",
            "Requirement already satisfied: tqdm in /usr/local/lib/python3.6/dist-packages (from kaggle==1.5.6) (4.41.1)\n",
            "Requirement already satisfied: python-slugify in /usr/local/lib/python3.6/dist-packages (from kaggle==1.5.6) (4.0.0)\n",
            "Requirement already satisfied: chardet<4,>=3.0.2 in /usr/local/lib/python3.6/dist-packages (from requests->kaggle==1.5.6) (3.0.4)\n",
            "Requirement already satisfied: idna<3,>=2.5 in /usr/local/lib/python3.6/dist-packages (from requests->kaggle==1.5.6) (2.9)\n",
            "Requirement already satisfied: text-unidecode>=1.3 in /usr/local/lib/python3.6/dist-packages (from python-slugify->kaggle==1.5.6) (1.3)\n",
            "Building wheels for collected packages: kaggle\n",
            "  Building wheel for kaggle (setup.py) ... \u001b[?25l\u001b[?25hdone\n",
            "  Created wheel for kaggle: filename=kaggle-1.5.6-cp36-none-any.whl size=72859 sha256=22da01d62f836f9d67c688c4361c04f8a68a16c0736ce4fed7cffa96e6b4a7b7\n",
            "  Stored in directory: /root/.cache/pip/wheels/57/4e/e8/bb28d035162fb8f17f8ca5d42c3230e284c6aa565b42b72674\n",
            "Successfully built kaggle\n",
            "Installing collected packages: kaggle\n",
            "Successfully installed kaggle-1.5.6\n",
            "Kaggle API 1.5.6\n"
          ],
          "name": "stdout"
        }
      ]
    },
    {
      "cell_type": "code",
      "metadata": {
        "id": "qzxgXZflOj2f",
        "colab_type": "code",
        "colab": {
          "base_uri": "https://localhost:8080/",
          "height": 69
        },
        "outputId": "0b7f9abf-2c01-487a-91ff-5566215dc3d1"
      },
      "source": [
        "!kaggle competitions download -c home-credit-default-risk"
      ],
      "execution_count": null,
      "outputs": [
        {
          "output_type": "stream",
          "text": [
            "Downloading home-credit-default-risk.zip to /content\n",
            "100% 688M/688M [00:26<00:00, 42.9MB/s]\n",
            "100% 688M/688M [00:26<00:00, 26.8MB/s]\n"
          ],
          "name": "stdout"
        }
      ]
    },
    {
      "cell_type": "code",
      "metadata": {
        "id": "g3miJsrfOn68",
        "colab_type": "code",
        "colab": {
          "base_uri": "https://localhost:8080/",
          "height": 35
        },
        "outputId": "8c46341e-c094-4efe-8388-5dccac519f3b"
      },
      "source": [
        "from zipfile import ZipFile\n",
        "\n",
        "file_name = \"home-credit-default-risk.zip\"\n",
        "\n",
        "with ZipFile(file_name,\"r\") as zip:\n",
        "  zip.extractall()\n",
        "  print('done')"
      ],
      "execution_count": null,
      "outputs": [
        {
          "output_type": "stream",
          "text": [
            "done\n"
          ],
          "name": "stdout"
        }
      ]
    },
    {
      "cell_type": "code",
      "metadata": {
        "id": "QI5_XdTuO7aM",
        "colab_type": "code",
        "colab": {}
      },
      "source": [
        "import numpy as np \n",
        "import pandas as pd"
      ],
      "execution_count": 1,
      "outputs": []
    },
    {
      "cell_type": "code",
      "metadata": {
        "id": "Kiw507R5PGj5",
        "colab_type": "code",
        "colab": {}
      },
      "source": [
        "train = pd.read_csv('application_train.csv')\n",
        "bureau = pd.read_csv('bureau.csv')\n",
        "bureau_balance = pd.read_csv('bureau_balance.csv')\n",
        "credit_card_balance = pd.read_csv('credit_card_balance.csv')\n",
        "installments_payments = pd.read_csv('installments_payments.csv')\n",
        "previous_application = pd.read_csv('previous_application.csv')\n",
        "POS_CASH_balance = pd.read_csv('POS_CASH_balance.csv')\n",
        "\n",
        "test = pd.read_csv('application_test.csv')\n",
        "sample_sub = pd.read_csv('sample_submission.csv')"
      ],
      "execution_count": 2,
      "outputs": []
    },
    {
      "cell_type": "code",
      "metadata": {
        "id": "eZojROK1X6ag",
        "colab_type": "code",
        "colab": {
          "base_uri": "https://localhost:8080/",
          "height": 156
        },
        "outputId": "14a68360-730b-4032-f700-915592818f48"
      },
      "source": [
        "print('Train data', train.shape)\n",
        "print('bureau data', bureau.shape)\n",
        "print('bureau_balance data', bureau_balance.shape)\n",
        "print('previous_application data', previous_application.shape)\n",
        "print('POS_CASH_balance data', POS_CASH_balance.shape)\n",
        "print('installments_payments data', installments_payments.shape)\n",
        "print('credit_card_balance data', credit_card_balance.shape)\n",
        "print('Test data shape: ', test.shape)"
      ],
      "execution_count": 3,
      "outputs": [
        {
          "output_type": "stream",
          "text": [
            "Train data (307511, 122)\n",
            "bureau data (1716428, 17)\n",
            "bureau_balance data (27299925, 3)\n",
            "previous_application data (1670214, 37)\n",
            "POS_CASH_balance data (10001358, 8)\n",
            "installments_payments data (13605401, 8)\n",
            "credit_card_balance data (3840312, 23)\n",
            "Test data shape:  (48744, 121)\n"
          ],
          "name": "stdout"
        }
      ]
    },
    {
      "cell_type": "code",
      "metadata": {
        "id": "JrEJC_10YbJe",
        "colab_type": "code",
        "colab": {
          "base_uri": "https://localhost:8080/",
          "height": 69
        },
        "outputId": "b8280968-82fa-43c7-86e4-97f6d221f5bd"
      },
      "source": [
        "train['TARGET'].value_counts()"
      ],
      "execution_count": null,
      "outputs": [
        {
          "output_type": "execute_result",
          "data": {
            "text/plain": [
              "0    282686\n",
              "1     24825\n",
              "Name: TARGET, dtype: int64"
            ]
          },
          "metadata": {
            "tags": []
          },
          "execution_count": 16
        }
      ]
    },
    {
      "cell_type": "code",
      "metadata": {
        "id": "P3976BBdPI8t",
        "colab_type": "code",
        "colab": {
          "base_uri": "https://localhost:8080/",
          "height": 104
        },
        "outputId": "98926753-6793-4545-e299-8a95a9c6d476"
      },
      "source": [
        "train.info()"
      ],
      "execution_count": null,
      "outputs": [
        {
          "output_type": "stream",
          "text": [
            "<class 'pandas.core.frame.DataFrame'>\n",
            "RangeIndex: 307511 entries, 0 to 307510\n",
            "Columns: 122 entries, SK_ID_CURR to AMT_REQ_CREDIT_BUREAU_YEAR\n",
            "dtypes: float64(65), int64(41), object(16)\n",
            "memory usage: 286.2+ MB\n"
          ],
          "name": "stdout"
        }
      ]
    },
    {
      "cell_type": "code",
      "metadata": {
        "id": "qnSTH9JPah3U",
        "colab_type": "code",
        "colab": {
          "base_uri": "https://localhost:8080/",
          "height": 225
        },
        "outputId": "21eb1ce9-5646-410d-c9a2-2ac914449d9c"
      },
      "source": [
        "train.select_dtypes('float64').apply(pd.Series.nunique, axis = 0)"
      ],
      "execution_count": null,
      "outputs": [
        {
          "output_type": "execute_result",
          "data": {
            "text/plain": [
              "AMT_INCOME_TOTAL               2548\n",
              "AMT_CREDIT                     5603\n",
              "AMT_ANNUITY                   13672\n",
              "AMT_GOODS_PRICE                1002\n",
              "REGION_POPULATION_RELATIVE       81\n",
              "                              ...  \n",
              "AMT_REQ_CREDIT_BUREAU_DAY         9\n",
              "AMT_REQ_CREDIT_BUREAU_WEEK        9\n",
              "AMT_REQ_CREDIT_BUREAU_MON        24\n",
              "AMT_REQ_CREDIT_BUREAU_QRT        11\n",
              "AMT_REQ_CREDIT_BUREAU_YEAR       25\n",
              "Length: 65, dtype: int64"
            ]
          },
          "metadata": {
            "tags": []
          },
          "execution_count": 22
        }
      ]
    },
    {
      "cell_type": "code",
      "metadata": {
        "id": "66hOarhXVfuL",
        "colab_type": "code",
        "colab": {
          "base_uri": "https://localhost:8080/",
          "height": 745
        },
        "outputId": "2a8e0073-01a8-4dae-8ee7-59579c0cdbea"
      },
      "source": [
        "train.select_dtypes('int64').apply(pd.Series.nunique, axis = 0)"
      ],
      "execution_count": null,
      "outputs": [
        {
          "output_type": "execute_result",
          "data": {
            "text/plain": [
              "SK_ID_CURR                     307511\n",
              "TARGET                              2\n",
              "CNT_CHILDREN                       15\n",
              "DAYS_BIRTH                      17460\n",
              "DAYS_EMPLOYED                   12574\n",
              "DAYS_ID_PUBLISH                  6168\n",
              "FLAG_MOBIL                          2\n",
              "FLAG_EMP_PHONE                      2\n",
              "FLAG_WORK_PHONE                     2\n",
              "FLAG_CONT_MOBILE                    2\n",
              "FLAG_PHONE                          2\n",
              "FLAG_EMAIL                          2\n",
              "REGION_RATING_CLIENT                3\n",
              "REGION_RATING_CLIENT_W_CITY         3\n",
              "HOUR_APPR_PROCESS_START            24\n",
              "REG_REGION_NOT_LIVE_REGION          2\n",
              "REG_REGION_NOT_WORK_REGION          2\n",
              "LIVE_REGION_NOT_WORK_REGION         2\n",
              "REG_CITY_NOT_LIVE_CITY              2\n",
              "REG_CITY_NOT_WORK_CITY              2\n",
              "LIVE_CITY_NOT_WORK_CITY             2\n",
              "FLAG_DOCUMENT_2                     2\n",
              "FLAG_DOCUMENT_3                     2\n",
              "FLAG_DOCUMENT_4                     2\n",
              "FLAG_DOCUMENT_5                     2\n",
              "FLAG_DOCUMENT_6                     2\n",
              "FLAG_DOCUMENT_7                     2\n",
              "FLAG_DOCUMENT_8                     2\n",
              "FLAG_DOCUMENT_9                     2\n",
              "FLAG_DOCUMENT_10                    2\n",
              "FLAG_DOCUMENT_11                    2\n",
              "FLAG_DOCUMENT_12                    2\n",
              "FLAG_DOCUMENT_13                    2\n",
              "FLAG_DOCUMENT_14                    2\n",
              "FLAG_DOCUMENT_15                    2\n",
              "FLAG_DOCUMENT_16                    2\n",
              "FLAG_DOCUMENT_17                    2\n",
              "FLAG_DOCUMENT_18                    2\n",
              "FLAG_DOCUMENT_19                    2\n",
              "FLAG_DOCUMENT_20                    2\n",
              "FLAG_DOCUMENT_21                    2\n",
              "dtype: int64"
            ]
          },
          "metadata": {
            "tags": []
          },
          "execution_count": 21
        }
      ]
    },
    {
      "cell_type": "code",
      "metadata": {
        "id": "82B14HAsV3TF",
        "colab_type": "code",
        "colab": {
          "base_uri": "https://localhost:8080/",
          "height": 312
        },
        "outputId": "dcdf5d03-6ce0-48b4-9e4e-607c68252699"
      },
      "source": [
        "train.select_dtypes('object').apply(pd.Series.nunique, axis = 0)"
      ],
      "execution_count": null,
      "outputs": [
        {
          "output_type": "execute_result",
          "data": {
            "text/plain": [
              "NAME_CONTRACT_TYPE             2\n",
              "CODE_GENDER                    3\n",
              "FLAG_OWN_CAR                   2\n",
              "FLAG_OWN_REALTY                2\n",
              "NAME_TYPE_SUITE                7\n",
              "NAME_INCOME_TYPE               8\n",
              "NAME_EDUCATION_TYPE            5\n",
              "NAME_FAMILY_STATUS             6\n",
              "NAME_HOUSING_TYPE              6\n",
              "OCCUPATION_TYPE               18\n",
              "WEEKDAY_APPR_PROCESS_START     7\n",
              "ORGANIZATION_TYPE             58\n",
              "FONDKAPREMONT_MODE             4\n",
              "HOUSETYPE_MODE                 3\n",
              "WALLSMATERIAL_MODE             7\n",
              "EMERGENCYSTATE_MODE            2\n",
              "dtype: int64"
            ]
          },
          "metadata": {
            "tags": []
          },
          "execution_count": 17
        }
      ]
    },
    {
      "cell_type": "markdown",
      "metadata": {
        "id": "s3g83aj8dIbK",
        "colab_type": "text"
      },
      "source": [
        "no null values in vraiables with dtypes int64"
      ]
    },
    {
      "cell_type": "code",
      "metadata": {
        "id": "Us1fyDLFbIZB",
        "colab_type": "code",
        "colab": {
          "base_uri": "https://localhost:8080/",
          "height": 312
        },
        "outputId": "e57e9bdf-5524-43ee-d788-89fc9cf586f2"
      },
      "source": [
        "train.select_dtypes('object').isnull().sum()"
      ],
      "execution_count": 4,
      "outputs": [
        {
          "output_type": "execute_result",
          "data": {
            "text/plain": [
              "NAME_CONTRACT_TYPE                 0\n",
              "CODE_GENDER                        0\n",
              "FLAG_OWN_CAR                       0\n",
              "FLAG_OWN_REALTY                    0\n",
              "NAME_TYPE_SUITE                 1292\n",
              "NAME_INCOME_TYPE                   0\n",
              "NAME_EDUCATION_TYPE                0\n",
              "NAME_FAMILY_STATUS                 0\n",
              "NAME_HOUSING_TYPE                  0\n",
              "OCCUPATION_TYPE                96391\n",
              "WEEKDAY_APPR_PROCESS_START         0\n",
              "ORGANIZATION_TYPE                  0\n",
              "FONDKAPREMONT_MODE            210295\n",
              "HOUSETYPE_MODE                154297\n",
              "WALLSMATERIAL_MODE            156341\n",
              "EMERGENCYSTATE_MODE           145755\n",
              "dtype: int64"
            ]
          },
          "metadata": {
            "tags": []
          },
          "execution_count": 4
        }
      ]
    },
    {
      "cell_type": "code",
      "metadata": {
        "id": "4qPpg1J1btDx",
        "colab_type": "code",
        "colab": {
          "base_uri": "https://localhost:8080/",
          "height": 312
        },
        "outputId": "754f3350-36bc-4f2f-80dc-70794df24efe"
      },
      "source": [
        "((train.select_dtypes('object').isnull().sum())/train.select_dtypes('object').shape[0])*100"
      ],
      "execution_count": null,
      "outputs": [
        {
          "output_type": "execute_result",
          "data": {
            "text/plain": [
              "NAME_CONTRACT_TYPE             0.000000\n",
              "CODE_GENDER                    0.000000\n",
              "FLAG_OWN_CAR                   0.000000\n",
              "FLAG_OWN_REALTY                0.000000\n",
              "NAME_TYPE_SUITE                0.420148\n",
              "NAME_INCOME_TYPE               0.000000\n",
              "NAME_EDUCATION_TYPE            0.000000\n",
              "NAME_FAMILY_STATUS             0.000000\n",
              "NAME_HOUSING_TYPE              0.000000\n",
              "OCCUPATION_TYPE               31.345545\n",
              "WEEKDAY_APPR_PROCESS_START     0.000000\n",
              "ORGANIZATION_TYPE              0.000000\n",
              "FONDKAPREMONT_MODE            68.386172\n",
              "HOUSETYPE_MODE                50.176091\n",
              "WALLSMATERIAL_MODE            50.840783\n",
              "EMERGENCYSTATE_MODE           47.398304\n",
              "dtype: float64"
            ]
          },
          "metadata": {
            "tags": []
          },
          "execution_count": 33
        }
      ]
    },
    {
      "cell_type": "code",
      "metadata": {
        "id": "HhmnbRJjZ60i",
        "colab_type": "code",
        "colab": {
          "base_uri": "https://localhost:8080/",
          "height": 35
        },
        "outputId": "d8be09ef-41f4-43b5-949e-74c4f3349545"
      },
      "source": [
        "train['NAME_CONTRACT_TYPE'].unique()"
      ],
      "execution_count": null,
      "outputs": [
        {
          "output_type": "execute_result",
          "data": {
            "text/plain": [
              "array(['Cash loans', 'Revolving loans'], dtype=object)"
            ]
          },
          "metadata": {
            "tags": []
          },
          "execution_count": 23
        }
      ]
    },
    {
      "cell_type": "code",
      "metadata": {
        "id": "m_EQA_tYaCcu",
        "colab_type": "code",
        "colab": {
          "base_uri": "https://localhost:8080/",
          "height": 295
        },
        "outputId": "430bac9b-8523-4cfa-ab7b-ab2e02fd4262"
      },
      "source": [
        "train['ORGANIZATION_TYPE'].unique()"
      ],
      "execution_count": null,
      "outputs": [
        {
          "output_type": "execute_result",
          "data": {
            "text/plain": [
              "array(['Business Entity Type 3', 'School', 'Government', 'Religion',\n",
              "       'Other', 'XNA', 'Electricity', 'Medicine',\n",
              "       'Business Entity Type 2', 'Self-employed', 'Transport: type 2',\n",
              "       'Construction', 'Housing', 'Kindergarten', 'Trade: type 7',\n",
              "       'Industry: type 11', 'Military', 'Services', 'Security Ministries',\n",
              "       'Transport: type 4', 'Industry: type 1', 'Emergency', 'Security',\n",
              "       'Trade: type 2', 'University', 'Transport: type 3', 'Police',\n",
              "       'Business Entity Type 1', 'Postal', 'Industry: type 4',\n",
              "       'Agriculture', 'Restaurant', 'Culture', 'Hotel',\n",
              "       'Industry: type 7', 'Trade: type 3', 'Industry: type 3', 'Bank',\n",
              "       'Industry: type 9', 'Insurance', 'Trade: type 6',\n",
              "       'Industry: type 2', 'Transport: type 1', 'Industry: type 12',\n",
              "       'Mobile', 'Trade: type 1', 'Industry: type 5', 'Industry: type 10',\n",
              "       'Legal Services', 'Advertising', 'Trade: type 5', 'Cleaning',\n",
              "       'Industry: type 13', 'Trade: type 4', 'Telecom',\n",
              "       'Industry: type 8', 'Realtor', 'Industry: type 6'], dtype=object)"
            ]
          },
          "metadata": {
            "tags": []
          },
          "execution_count": 20
        }
      ]
    },
    {
      "cell_type": "markdown",
      "metadata": {
        "id": "B0v30P9YfY3A",
        "colab_type": "text"
      },
      "source": [
        "As the secondary tables have many to one relationship with the main table (application train/test) hierarchy is: <br>\n",
        "1. application train/test | key = SK_ID_CURR to | (bureau and previous_application) <br>\n",
        "2. bureau | key = SK_ID_BUREAU to | bureau_balance <br>\n",
        "3. previous_application | key = SK_ID_PREV to | (POS_CASH_balance, installments_payments and credit_card_balance) <br> <br>\n",
        "Merge the tables"
      ]
    },
    {
      "cell_type": "markdown",
      "metadata": {
        "id": "KxMoE8E4oZQq",
        "colab_type": "text"
      },
      "source": [
        "2. bureau_merge"
      ]
    },
    {
      "cell_type": "code",
      "metadata": {
        "id": "Z_ixaYuTii_y",
        "colab_type": "code",
        "colab": {
          "base_uri": "https://localhost:8080/",
          "height": 329
        },
        "outputId": "6724aff7-e24b-4ab0-f50a-a4b4976a95c8"
      },
      "source": [
        "bureau.dtypes"
      ],
      "execution_count": null,
      "outputs": [
        {
          "output_type": "execute_result",
          "data": {
            "text/plain": [
              "SK_ID_CURR                  int64\n",
              "SK_ID_BUREAU                int64\n",
              "CREDIT_ACTIVE              object\n",
              "CREDIT_CURRENCY            object\n",
              "DAYS_CREDIT                 int64\n",
              "CREDIT_DAY_OVERDUE          int64\n",
              "DAYS_CREDIT_ENDDATE       float64\n",
              "DAYS_ENDDATE_FACT         float64\n",
              "AMT_CREDIT_MAX_OVERDUE    float64\n",
              "CNT_CREDIT_PROLONG          int64\n",
              "AMT_CREDIT_SUM            float64\n",
              "AMT_CREDIT_SUM_DEBT       float64\n",
              "AMT_CREDIT_SUM_LIMIT      float64\n",
              "AMT_CREDIT_SUM_OVERDUE    float64\n",
              "CREDIT_TYPE                object\n",
              "DAYS_CREDIT_UPDATE          int64\n",
              "AMT_ANNUITY               float64\n",
              "dtype: object"
            ]
          },
          "metadata": {
            "tags": []
          },
          "execution_count": 43
        }
      ]
    },
    {
      "cell_type": "code",
      "metadata": {
        "id": "siOMpZOjiLo6",
        "colab_type": "code",
        "colab": {
          "base_uri": "https://localhost:8080/",
          "height": 329
        },
        "outputId": "4595a80b-0294-4b45-a2d8-0a37246b2df9"
      },
      "source": [
        "bureau.isnull().sum()"
      ],
      "execution_count": null,
      "outputs": [
        {
          "output_type": "execute_result",
          "data": {
            "text/plain": [
              "SK_ID_CURR                      0\n",
              "SK_ID_BUREAU                    0\n",
              "CREDIT_ACTIVE                   0\n",
              "CREDIT_CURRENCY                 0\n",
              "DAYS_CREDIT                     0\n",
              "CREDIT_DAY_OVERDUE              0\n",
              "DAYS_CREDIT_ENDDATE        105553\n",
              "DAYS_ENDDATE_FACT          633653\n",
              "AMT_CREDIT_MAX_OVERDUE    1124488\n",
              "CNT_CREDIT_PROLONG              0\n",
              "AMT_CREDIT_SUM                 13\n",
              "AMT_CREDIT_SUM_DEBT        257669\n",
              "AMT_CREDIT_SUM_LIMIT       591780\n",
              "AMT_CREDIT_SUM_OVERDUE          0\n",
              "CREDIT_TYPE                     0\n",
              "DAYS_CREDIT_UPDATE              0\n",
              "AMT_ANNUITY               1226791\n",
              "dtype: int64"
            ]
          },
          "metadata": {
            "tags": []
          },
          "execution_count": 38
        }
      ]
    },
    {
      "cell_type": "code",
      "metadata": {
        "id": "uDNEzvSQjB9S",
        "colab_type": "code",
        "colab": {
          "base_uri": "https://localhost:8080/",
          "height": 173
        },
        "outputId": "81bf8a4b-2f3a-42d1-a75a-1e5bf4841203"
      },
      "source": [
        "((bureau.select_dtypes('float64').isnull().sum())/bureau.select_dtypes('float64').shape[0])*100"
      ],
      "execution_count": null,
      "outputs": [
        {
          "output_type": "execute_result",
          "data": {
            "text/plain": [
              "DAYS_CREDIT_ENDDATE        6.149573\n",
              "DAYS_ENDDATE_FACT         36.916958\n",
              "AMT_CREDIT_MAX_OVERDUE    65.513264\n",
              "AMT_CREDIT_SUM             0.000757\n",
              "AMT_CREDIT_SUM_DEBT       15.011932\n",
              "AMT_CREDIT_SUM_LIMIT      34.477415\n",
              "AMT_CREDIT_SUM_OVERDUE     0.000000\n",
              "AMT_ANNUITY               71.473490\n",
              "dtype: float64"
            ]
          },
          "metadata": {
            "tags": []
          },
          "execution_count": 5
        }
      ]
    },
    {
      "cell_type": "code",
      "metadata": {
        "id": "npcD3uo2jcTm",
        "colab_type": "code",
        "colab": {}
      },
      "source": [
        "bureau.fillna(bureau.select_dtypes('float64').mean(), inplace=True)"
      ],
      "execution_count": 4,
      "outputs": []
    },
    {
      "cell_type": "code",
      "metadata": {
        "id": "lxqgOp-YlEoT",
        "colab_type": "code",
        "colab": {
          "base_uri": "https://localhost:8080/",
          "height": 329
        },
        "outputId": "47949d88-a4e3-4246-942c-5f82650a415d"
      },
      "source": [
        "bureau.isnull().sum()"
      ],
      "execution_count": 5,
      "outputs": [
        {
          "output_type": "execute_result",
          "data": {
            "text/plain": [
              "SK_ID_CURR                0\n",
              "SK_ID_BUREAU              0\n",
              "CREDIT_ACTIVE             0\n",
              "CREDIT_CURRENCY           0\n",
              "DAYS_CREDIT               0\n",
              "CREDIT_DAY_OVERDUE        0\n",
              "DAYS_CREDIT_ENDDATE       0\n",
              "DAYS_ENDDATE_FACT         0\n",
              "AMT_CREDIT_MAX_OVERDUE    0\n",
              "CNT_CREDIT_PROLONG        0\n",
              "AMT_CREDIT_SUM            0\n",
              "AMT_CREDIT_SUM_DEBT       0\n",
              "AMT_CREDIT_SUM_LIMIT      0\n",
              "AMT_CREDIT_SUM_OVERDUE    0\n",
              "CREDIT_TYPE               0\n",
              "DAYS_CREDIT_UPDATE        0\n",
              "AMT_ANNUITY               0\n",
              "dtype: int64"
            ]
          },
          "metadata": {
            "tags": []
          },
          "execution_count": 5
        }
      ]
    },
    {
      "cell_type": "code",
      "metadata": {
        "id": "w6Ar4cmgni2V",
        "colab_type": "code",
        "colab": {
          "base_uri": "https://localhost:8080/",
          "height": 87
        },
        "outputId": "3be2c478-1611-4b34-964e-45a17da9e6ed"
      },
      "source": [
        "bureau_balance.isnull().sum()"
      ],
      "execution_count": null,
      "outputs": [
        {
          "output_type": "execute_result",
          "data": {
            "text/plain": [
              "SK_ID_BUREAU      0\n",
              "MONTHS_BALANCE    0\n",
              "STATUS            0\n",
              "dtype: int64"
            ]
          },
          "metadata": {
            "tags": []
          },
          "execution_count": 7
        }
      ]
    },
    {
      "cell_type": "code",
      "metadata": {
        "id": "E5at25HyaMKR",
        "colab_type": "code",
        "colab": {}
      },
      "source": [
        "bureau_merge = pd.merge(left=bureau,\n",
        "                      right=bureau_balance,\n",
        "                      how=\"left\",\n",
        "                      left_on=\"SK_ID_BUREAU\",\n",
        "                      right_index=True)"
      ],
      "execution_count": 6,
      "outputs": []
    },
    {
      "cell_type": "code",
      "metadata": {
        "id": "JAG7Un6bh7u2",
        "colab_type": "code",
        "colab": {
          "base_uri": "https://localhost:8080/",
          "height": 69
        },
        "outputId": "654e876a-cef6-460b-d65d-59f553a95936"
      },
      "source": [
        "print(bureau.shape)\n",
        "print(bureau_balance.shape)\n",
        "print(bureau_merge.shape)"
      ],
      "execution_count": 7,
      "outputs": [
        {
          "output_type": "stream",
          "text": [
            "(1716428, 17)\n",
            "(27299925, 3)\n",
            "(1716428, 20)\n"
          ],
          "name": "stdout"
        }
      ]
    },
    {
      "cell_type": "markdown",
      "metadata": {
        "id": "v94dEPOUohgP",
        "colab_type": "text"
      },
      "source": [
        "3. previous_application_merge"
      ]
    },
    {
      "cell_type": "code",
      "metadata": {
        "id": "44MIPUujo-jy",
        "colab_type": "code",
        "colab": {
          "base_uri": "https://localhost:8080/",
          "height": 537
        },
        "outputId": "ebda5447-9fe7-4e36-f495-74d503b06a0d"
      },
      "source": [
        "credit_card_balance.info()"
      ],
      "execution_count": 8,
      "outputs": [
        {
          "output_type": "stream",
          "text": [
            "<class 'pandas.core.frame.DataFrame'>\n",
            "RangeIndex: 3840312 entries, 0 to 3840311\n",
            "Data columns (total 23 columns):\n",
            " #   Column                      Dtype  \n",
            "---  ------                      -----  \n",
            " 0   SK_ID_PREV                  int64  \n",
            " 1   SK_ID_CURR                  int64  \n",
            " 2   MONTHS_BALANCE              int64  \n",
            " 3   AMT_BALANCE                 float64\n",
            " 4   AMT_CREDIT_LIMIT_ACTUAL     int64  \n",
            " 5   AMT_DRAWINGS_ATM_CURRENT    float64\n",
            " 6   AMT_DRAWINGS_CURRENT        float64\n",
            " 7   AMT_DRAWINGS_OTHER_CURRENT  float64\n",
            " 8   AMT_DRAWINGS_POS_CURRENT    float64\n",
            " 9   AMT_INST_MIN_REGULARITY     float64\n",
            " 10  AMT_PAYMENT_CURRENT         float64\n",
            " 11  AMT_PAYMENT_TOTAL_CURRENT   float64\n",
            " 12  AMT_RECEIVABLE_PRINCIPAL    float64\n",
            " 13  AMT_RECIVABLE               float64\n",
            " 14  AMT_TOTAL_RECEIVABLE        float64\n",
            " 15  CNT_DRAWINGS_ATM_CURRENT    float64\n",
            " 16  CNT_DRAWINGS_CURRENT        int64  \n",
            " 17  CNT_DRAWINGS_OTHER_CURRENT  float64\n",
            " 18  CNT_DRAWINGS_POS_CURRENT    float64\n",
            " 19  CNT_INSTALMENT_MATURE_CUM   float64\n",
            " 20  NAME_CONTRACT_STATUS        object \n",
            " 21  SK_DPD                      int64  \n",
            " 22  SK_DPD_DEF                  int64  \n",
            "dtypes: float64(15), int64(7), object(1)\n",
            "memory usage: 673.9+ MB\n"
          ],
          "name": "stdout"
        }
      ]
    },
    {
      "cell_type": "code",
      "metadata": {
        "id": "MQQ4-38Aosp2",
        "colab_type": "code",
        "colab": {
          "base_uri": "https://localhost:8080/",
          "height": 433
        },
        "outputId": "bb25faf4-611a-4949-9dec-3a2a9b49bcac"
      },
      "source": [
        "credit_card_balance.isnull().sum()"
      ],
      "execution_count": null,
      "outputs": [
        {
          "output_type": "execute_result",
          "data": {
            "text/plain": [
              "SK_ID_PREV                         0\n",
              "SK_ID_CURR                         0\n",
              "MONTHS_BALANCE                     0\n",
              "AMT_BALANCE                        0\n",
              "AMT_CREDIT_LIMIT_ACTUAL            0\n",
              "AMT_DRAWINGS_ATM_CURRENT      749816\n",
              "AMT_DRAWINGS_CURRENT               0\n",
              "AMT_DRAWINGS_OTHER_CURRENT    749816\n",
              "AMT_DRAWINGS_POS_CURRENT      749816\n",
              "AMT_INST_MIN_REGULARITY       305236\n",
              "AMT_PAYMENT_CURRENT           767988\n",
              "AMT_PAYMENT_TOTAL_CURRENT          0\n",
              "AMT_RECEIVABLE_PRINCIPAL           0\n",
              "AMT_RECIVABLE                      0\n",
              "AMT_TOTAL_RECEIVABLE               0\n",
              "CNT_DRAWINGS_ATM_CURRENT      749816\n",
              "CNT_DRAWINGS_CURRENT               0\n",
              "CNT_DRAWINGS_OTHER_CURRENT    749816\n",
              "CNT_DRAWINGS_POS_CURRENT      749816\n",
              "CNT_INSTALMENT_MATURE_CUM     305236\n",
              "NAME_CONTRACT_STATUS               0\n",
              "SK_DPD                             0\n",
              "SK_DPD_DEF                         0\n",
              "dtype: int64"
            ]
          },
          "metadata": {
            "tags": []
          },
          "execution_count": 12
        }
      ]
    },
    {
      "cell_type": "code",
      "metadata": {
        "id": "kdaJpNFNh_yN",
        "colab_type": "code",
        "colab": {}
      },
      "source": [
        "credit_card_balance.fillna(credit_card_balance.select_dtypes('float64').mean(), inplace=True)"
      ],
      "execution_count": 8,
      "outputs": []
    },
    {
      "cell_type": "code",
      "metadata": {
        "id": "36Np3y9oozKo",
        "colab_type": "code",
        "colab": {
          "base_uri": "https://localhost:8080/",
          "height": 433
        },
        "outputId": "48b20b6e-8f07-46d6-8fc6-eb95a1d0b152"
      },
      "source": [
        "credit_card_balance.isnull().sum()"
      ],
      "execution_count": 9,
      "outputs": [
        {
          "output_type": "execute_result",
          "data": {
            "text/plain": [
              "SK_ID_PREV                    0\n",
              "SK_ID_CURR                    0\n",
              "MONTHS_BALANCE                0\n",
              "AMT_BALANCE                   0\n",
              "AMT_CREDIT_LIMIT_ACTUAL       0\n",
              "AMT_DRAWINGS_ATM_CURRENT      0\n",
              "AMT_DRAWINGS_CURRENT          0\n",
              "AMT_DRAWINGS_OTHER_CURRENT    0\n",
              "AMT_DRAWINGS_POS_CURRENT      0\n",
              "AMT_INST_MIN_REGULARITY       0\n",
              "AMT_PAYMENT_CURRENT           0\n",
              "AMT_PAYMENT_TOTAL_CURRENT     0\n",
              "AMT_RECEIVABLE_PRINCIPAL      0\n",
              "AMT_RECIVABLE                 0\n",
              "AMT_TOTAL_RECEIVABLE          0\n",
              "CNT_DRAWINGS_ATM_CURRENT      0\n",
              "CNT_DRAWINGS_CURRENT          0\n",
              "CNT_DRAWINGS_OTHER_CURRENT    0\n",
              "CNT_DRAWINGS_POS_CURRENT      0\n",
              "CNT_INSTALMENT_MATURE_CUM     0\n",
              "NAME_CONTRACT_STATUS          0\n",
              "SK_DPD                        0\n",
              "SK_DPD_DEF                    0\n",
              "dtype: int64"
            ]
          },
          "metadata": {
            "tags": []
          },
          "execution_count": 9
        }
      ]
    },
    {
      "cell_type": "code",
      "metadata": {
        "id": "yXFsKJyHpuS_",
        "colab_type": "code",
        "colab": {
          "base_uri": "https://localhost:8080/",
          "height": 277
        },
        "outputId": "6ab4e06a-8c1b-4e5f-cd57-cd8768df243c"
      },
      "source": [
        "POS_CASH_balance.info()"
      ],
      "execution_count": null,
      "outputs": [
        {
          "output_type": "stream",
          "text": [
            "<class 'pandas.core.frame.DataFrame'>\n",
            "RangeIndex: 10001358 entries, 0 to 10001357\n",
            "Data columns (total 8 columns):\n",
            " #   Column                 Dtype  \n",
            "---  ------                 -----  \n",
            " 0   SK_ID_PREV             int64  \n",
            " 1   SK_ID_CURR             int64  \n",
            " 2   MONTHS_BALANCE         int64  \n",
            " 3   CNT_INSTALMENT         float64\n",
            " 4   CNT_INSTALMENT_FUTURE  float64\n",
            " 5   NAME_CONTRACT_STATUS   object \n",
            " 6   SK_DPD                 int64  \n",
            " 7   SK_DPD_DEF             int64  \n",
            "dtypes: float64(2), int64(5), object(1)\n",
            "memory usage: 610.4+ MB\n"
          ],
          "name": "stdout"
        }
      ]
    },
    {
      "cell_type": "code",
      "metadata": {
        "id": "d2vog6QAp6uV",
        "colab_type": "code",
        "colab": {
          "base_uri": "https://localhost:8080/",
          "height": 173
        },
        "outputId": "e4534354-508c-46b9-91f1-1192d573ebf7"
      },
      "source": [
        "POS_CASH_balance.isnull().sum()"
      ],
      "execution_count": null,
      "outputs": [
        {
          "output_type": "execute_result",
          "data": {
            "text/plain": [
              "SK_ID_PREV                   0\n",
              "SK_ID_CURR                   0\n",
              "MONTHS_BALANCE               0\n",
              "CNT_INSTALMENT           26071\n",
              "CNT_INSTALMENT_FUTURE    26087\n",
              "NAME_CONTRACT_STATUS         0\n",
              "SK_DPD                       0\n",
              "SK_DPD_DEF                   0\n",
              "dtype: int64"
            ]
          },
          "metadata": {
            "tags": []
          },
          "execution_count": 17
        }
      ]
    },
    {
      "cell_type": "code",
      "metadata": {
        "id": "NzuhjH0nqB9-",
        "colab_type": "code",
        "colab": {}
      },
      "source": [
        "POS_CASH_balance.fillna(POS_CASH_balance.select_dtypes('float64').mean(), inplace=True)"
      ],
      "execution_count": 10,
      "outputs": []
    },
    {
      "cell_type": "code",
      "metadata": {
        "id": "DBAVjP1GqPRG",
        "colab_type": "code",
        "colab": {
          "base_uri": "https://localhost:8080/",
          "height": 173
        },
        "outputId": "086e53ac-1c47-4f30-dd17-f48005a4adcc"
      },
      "source": [
        "POS_CASH_balance.isnull().sum()"
      ],
      "execution_count": 11,
      "outputs": [
        {
          "output_type": "execute_result",
          "data": {
            "text/plain": [
              "SK_ID_PREV               0\n",
              "SK_ID_CURR               0\n",
              "MONTHS_BALANCE           0\n",
              "CNT_INSTALMENT           0\n",
              "CNT_INSTALMENT_FUTURE    0\n",
              "NAME_CONTRACT_STATUS     0\n",
              "SK_DPD                   0\n",
              "SK_DPD_DEF               0\n",
              "dtype: int64"
            ]
          },
          "metadata": {
            "tags": []
          },
          "execution_count": 11
        }
      ]
    },
    {
      "cell_type": "code",
      "metadata": {
        "id": "DZVpeyf0rUMr",
        "colab_type": "code",
        "colab": {
          "base_uri": "https://localhost:8080/",
          "height": 277
        },
        "outputId": "7d2fcba3-a20e-4503-950b-bd34b64f43ee"
      },
      "source": [
        "installments_payments.info()"
      ],
      "execution_count": null,
      "outputs": [
        {
          "output_type": "stream",
          "text": [
            "<class 'pandas.core.frame.DataFrame'>\n",
            "RangeIndex: 13605401 entries, 0 to 13605400\n",
            "Data columns (total 8 columns):\n",
            " #   Column                  Dtype  \n",
            "---  ------                  -----  \n",
            " 0   SK_ID_PREV              int64  \n",
            " 1   SK_ID_CURR              int64  \n",
            " 2   NUM_INSTALMENT_VERSION  float64\n",
            " 3   NUM_INSTALMENT_NUMBER   int64  \n",
            " 4   DAYS_INSTALMENT         float64\n",
            " 5   DAYS_ENTRY_PAYMENT      float64\n",
            " 6   AMT_INSTALMENT          float64\n",
            " 7   AMT_PAYMENT             float64\n",
            "dtypes: float64(5), int64(3)\n",
            "memory usage: 830.4 MB\n"
          ],
          "name": "stdout"
        }
      ]
    },
    {
      "cell_type": "code",
      "metadata": {
        "id": "K2hqZoZ7rvQD",
        "colab_type": "code",
        "colab": {
          "base_uri": "https://localhost:8080/",
          "height": 173
        },
        "outputId": "deb21c47-09fa-49f5-dfff-9f3352335be7"
      },
      "source": [
        "installments_payments.isnull().sum()"
      ],
      "execution_count": 12,
      "outputs": [
        {
          "output_type": "execute_result",
          "data": {
            "text/plain": [
              "SK_ID_PREV                   0\n",
              "SK_ID_CURR                   0\n",
              "NUM_INSTALMENT_VERSION       0\n",
              "NUM_INSTALMENT_NUMBER        0\n",
              "DAYS_INSTALMENT              0\n",
              "DAYS_ENTRY_PAYMENT        2905\n",
              "AMT_INSTALMENT               0\n",
              "AMT_PAYMENT               2905\n",
              "dtype: int64"
            ]
          },
          "metadata": {
            "tags": []
          },
          "execution_count": 12
        }
      ]
    },
    {
      "cell_type": "code",
      "metadata": {
        "id": "HrfDVXTnr0Dw",
        "colab_type": "code",
        "colab": {}
      },
      "source": [
        "installments_payments.fillna(installments_payments.select_dtypes('float64').mean(), inplace=True)"
      ],
      "execution_count": 12,
      "outputs": []
    },
    {
      "cell_type": "code",
      "metadata": {
        "id": "R3679M6cr_u1",
        "colab_type": "code",
        "colab": {
          "base_uri": "https://localhost:8080/",
          "height": 173
        },
        "outputId": "3e733cf3-0b53-469f-fdc5-14c69af34036"
      },
      "source": [
        "installments_payments.isnull().sum()"
      ],
      "execution_count": 13,
      "outputs": [
        {
          "output_type": "execute_result",
          "data": {
            "text/plain": [
              "SK_ID_PREV                0\n",
              "SK_ID_CURR                0\n",
              "NUM_INSTALMENT_VERSION    0\n",
              "NUM_INSTALMENT_NUMBER     0\n",
              "DAYS_INSTALMENT           0\n",
              "DAYS_ENTRY_PAYMENT        0\n",
              "AMT_INSTALMENT            0\n",
              "AMT_PAYMENT               0\n",
              "dtype: int64"
            ]
          },
          "metadata": {
            "tags": []
          },
          "execution_count": 13
        }
      ]
    },
    {
      "cell_type": "code",
      "metadata": {
        "id": "qUBuyguXsCos",
        "colab_type": "code",
        "colab": {}
      },
      "source": [
        "installments_payments_POS_merge = pd.merge(left=POS_CASH_balance,\n",
        "                      right=installments_payments,\n",
        "                      how=\"inner\",\n",
        "                      left_on=\"SK_ID_PREV\",\n",
        "                      right_index=True)"
      ],
      "execution_count": 14,
      "outputs": []
    },
    {
      "cell_type": "code",
      "metadata": {
        "id": "gXToHlNsssK6",
        "colab_type": "code",
        "colab": {
          "base_uri": "https://localhost:8080/",
          "height": 69
        },
        "outputId": "852d8931-9e3f-4a17-e7d2-2abc13d50cd6"
      },
      "source": [
        "print(installments_payments.shape)\n",
        "print(POS_CASH_balance.shape)\n",
        "print(installments_payments_POS_merge.shape)"
      ],
      "execution_count": 15,
      "outputs": [
        {
          "output_type": "stream",
          "text": [
            "(13605401, 8)\n",
            "(10001358, 8)\n",
            "(10001358, 17)\n"
          ],
          "name": "stdout"
        }
      ]
    },
    {
      "cell_type": "code",
      "metadata": {
        "id": "Tzxj18aOwqms",
        "colab_type": "code",
        "colab": {
          "base_uri": "https://localhost:8080/",
          "height": 329
        },
        "outputId": "738ae900-45be-4fdf-cc9b-29f0565e633b"
      },
      "source": [
        "installments_payments_POS_merge.dtypes"
      ],
      "execution_count": 16,
      "outputs": [
        {
          "output_type": "execute_result",
          "data": {
            "text/plain": [
              "SK_ID_PREV                  int64\n",
              "SK_ID_PREV_x                int64\n",
              "SK_ID_CURR_x                int64\n",
              "MONTHS_BALANCE              int64\n",
              "CNT_INSTALMENT            float64\n",
              "CNT_INSTALMENT_FUTURE     float64\n",
              "NAME_CONTRACT_STATUS       object\n",
              "SK_DPD                      int64\n",
              "SK_DPD_DEF                  int64\n",
              "SK_ID_PREV_y                int64\n",
              "SK_ID_CURR_y                int64\n",
              "NUM_INSTALMENT_VERSION    float64\n",
              "NUM_INSTALMENT_NUMBER       int64\n",
              "DAYS_INSTALMENT           float64\n",
              "DAYS_ENTRY_PAYMENT        float64\n",
              "AMT_INSTALMENT            float64\n",
              "AMT_PAYMENT               float64\n",
              "dtype: object"
            ]
          },
          "metadata": {
            "tags": []
          },
          "execution_count": 16
        }
      ]
    },
    {
      "cell_type": "code",
      "metadata": {
        "id": "pv3EW27-s9R4",
        "colab_type": "code",
        "colab": {}
      },
      "source": [
        "installments_POS_credit_merge = pd.merge(left=installments_payments_POS_merge,\n",
        "                      right=credit_card_balance,\n",
        "                      how=\"left\",\n",
        "                      left_on=\"SK_ID_PREV\",\n",
        "                      right_index=True)"
      ],
      "execution_count": 16,
      "outputs": []
    },
    {
      "cell_type": "code",
      "metadata": {
        "id": "FrFF7EoftGQo",
        "colab_type": "code",
        "colab": {
          "base_uri": "https://localhost:8080/",
          "height": 87
        },
        "outputId": "0b113768-779c-43ba-985d-25c98525e3c7"
      },
      "source": [
        "print(credit_card_balance.shape)\n",
        "print(POS_CASH_balance.shape)\n",
        "print(installments_payments.shape)\n",
        "print(installments_POS_credit_merge.shape)"
      ],
      "execution_count": 17,
      "outputs": [
        {
          "output_type": "stream",
          "text": [
            "(3840312, 23)\n",
            "(10001358, 8)\n",
            "(13605401, 8)\n",
            "(10001358, 40)\n"
          ],
          "name": "stdout"
        }
      ]
    },
    {
      "cell_type": "code",
      "metadata": {
        "id": "U0vOUKFJtONO",
        "colab_type": "code",
        "colab": {}
      },
      "source": [
        "previous_application_merge = pd.merge(left=previous_application,\n",
        "                      right=installments_POS_credit_merge,\n",
        "                      how=\"left\",\n",
        "                      left_on=\"SK_ID_PREV\",\n",
        "                      right_index=True)"
      ],
      "execution_count": 18,
      "outputs": []
    },
    {
      "cell_type": "code",
      "metadata": {
        "id": "EumxkG2uz6O8",
        "colab_type": "code",
        "colab": {
          "base_uri": "https://localhost:8080/",
          "height": 104
        },
        "outputId": "8d98ce89-503e-46eb-b31d-cd3e4ac915c5"
      },
      "source": [
        "print(previous_application.shape)\n",
        "print(credit_card_balance.shape)\n",
        "print(POS_CASH_balance.shape)\n",
        "print(installments_payments.shape)\n",
        "print(previous_application_merge.shape)"
      ],
      "execution_count": 19,
      "outputs": [
        {
          "output_type": "stream",
          "text": [
            "(1670214, 37)\n",
            "(3840312, 23)\n",
            "(10001358, 8)\n",
            "(13605401, 8)\n",
            "(1670214, 77)\n"
          ],
          "name": "stdout"
        }
      ]
    },
    {
      "cell_type": "markdown",
      "metadata": {
        "id": "_UPEO-qj0mdD",
        "colab_type": "text"
      },
      "source": [
        "1. application train/test (bureau and previous_application) <br>\n",
        "i.e. bureau_merge and previous_application_merge"
      ]
    },
    {
      "cell_type": "code",
      "metadata": {
        "id": "jfMXGkcy1qaL",
        "colab_type": "code",
        "colab": {}
      },
      "source": [
        "bureau_pre_application_merge = pd.merge(left=bureau_merge,\n",
        "                      right=previous_application_merge,\n",
        "                      how=\"inner\",\n",
        "                      left_on=\"SK_ID_CURR\",\n",
        "                      right_index=True)"
      ],
      "execution_count": 20,
      "outputs": []
    },
    {
      "cell_type": "code",
      "metadata": {
        "id": "DeK1xRVM2HT2",
        "colab_type": "code",
        "colab": {
          "base_uri": "https://localhost:8080/",
          "height": 69
        },
        "outputId": "3e1d82f9-d500-4e3b-8771-091b5833b357"
      },
      "source": [
        "print(bureau_merge.shape)\n",
        "print(previous_application_merge.shape)\n",
        "print(bureau_pre_application_merge.shape)"
      ],
      "execution_count": 21,
      "outputs": [
        {
          "output_type": "stream",
          "text": [
            "(1716428, 20)\n",
            "(1670214, 77)\n",
            "(1716428, 97)\n"
          ],
          "name": "stdout"
        }
      ]
    },
    {
      "cell_type": "code",
      "metadata": {
        "id": "6ofqVlQv0KPQ",
        "colab_type": "code",
        "colab": {}
      },
      "source": [
        "application_merge = pd.merge(left=train,\n",
        "                      right=bureau_pre_application_merge,\n",
        "                      how=\"inner\",\n",
        "                      left_on=\"SK_ID_CURR\",\n",
        "                      right_index=True)"
      ],
      "execution_count": 22,
      "outputs": []
    },
    {
      "cell_type": "code",
      "metadata": {
        "id": "ImfAcDuy2cKW",
        "colab_type": "code",
        "colab": {
          "base_uri": "https://localhost:8080/",
          "height": 69
        },
        "outputId": "5da4776b-3d21-49b9-9cb4-d441571e77f2"
      },
      "source": [
        "print(train.shape)\n",
        "print(bureau_pre_application_merge.shape)\n",
        "print(application_merge.shape)"
      ],
      "execution_count": 23,
      "outputs": [
        {
          "output_type": "stream",
          "text": [
            "(307511, 122)\n",
            "(1716428, 97)\n",
            "(307511, 220)\n"
          ],
          "name": "stdout"
        }
      ]
    },
    {
      "cell_type": "code",
      "metadata": {
        "id": "lkZ1kPYC6Is6",
        "colab_type": "code",
        "colab": {
          "base_uri": "https://localhost:8080/",
          "height": 543
        },
        "outputId": "096f3fd4-efb4-4a88-ec2d-ce567f2b67be"
      },
      "source": [
        "application_merge.head(10)"
      ],
      "execution_count": 24,
      "outputs": [
        {
          "output_type": "execute_result",
          "data": {
            "text/html": [
              "<div>\n",
              "<style scoped>\n",
              "    .dataframe tbody tr th:only-of-type {\n",
              "        vertical-align: middle;\n",
              "    }\n",
              "\n",
              "    .dataframe tbody tr th {\n",
              "        vertical-align: top;\n",
              "    }\n",
              "\n",
              "    .dataframe thead th {\n",
              "        text-align: right;\n",
              "    }\n",
              "</style>\n",
              "<table border=\"1\" class=\"dataframe\">\n",
              "  <thead>\n",
              "    <tr style=\"text-align: right;\">\n",
              "      <th></th>\n",
              "      <th>SK_ID_CURR</th>\n",
              "      <th>SK_ID_CURR_x</th>\n",
              "      <th>TARGET</th>\n",
              "      <th>NAME_CONTRACT_TYPE_x</th>\n",
              "      <th>CODE_GENDER</th>\n",
              "      <th>FLAG_OWN_CAR</th>\n",
              "      <th>FLAG_OWN_REALTY</th>\n",
              "      <th>CNT_CHILDREN</th>\n",
              "      <th>AMT_INCOME_TOTAL</th>\n",
              "      <th>AMT_CREDIT_x</th>\n",
              "      <th>AMT_ANNUITY</th>\n",
              "      <th>AMT_GOODS_PRICE_x</th>\n",
              "      <th>NAME_TYPE_SUITE_x</th>\n",
              "      <th>NAME_INCOME_TYPE</th>\n",
              "      <th>NAME_EDUCATION_TYPE</th>\n",
              "      <th>NAME_FAMILY_STATUS</th>\n",
              "      <th>NAME_HOUSING_TYPE</th>\n",
              "      <th>REGION_POPULATION_RELATIVE</th>\n",
              "      <th>DAYS_BIRTH</th>\n",
              "      <th>DAYS_EMPLOYED</th>\n",
              "      <th>DAYS_REGISTRATION</th>\n",
              "      <th>DAYS_ID_PUBLISH</th>\n",
              "      <th>OWN_CAR_AGE</th>\n",
              "      <th>FLAG_MOBIL</th>\n",
              "      <th>FLAG_EMP_PHONE</th>\n",
              "      <th>FLAG_WORK_PHONE</th>\n",
              "      <th>FLAG_CONT_MOBILE</th>\n",
              "      <th>FLAG_PHONE</th>\n",
              "      <th>FLAG_EMAIL</th>\n",
              "      <th>OCCUPATION_TYPE</th>\n",
              "      <th>CNT_FAM_MEMBERS</th>\n",
              "      <th>REGION_RATING_CLIENT</th>\n",
              "      <th>REGION_RATING_CLIENT_W_CITY</th>\n",
              "      <th>WEEKDAY_APPR_PROCESS_START_x</th>\n",
              "      <th>HOUR_APPR_PROCESS_START_x</th>\n",
              "      <th>REG_REGION_NOT_LIVE_REGION</th>\n",
              "      <th>REG_REGION_NOT_WORK_REGION</th>\n",
              "      <th>LIVE_REGION_NOT_WORK_REGION</th>\n",
              "      <th>REG_CITY_NOT_LIVE_CITY</th>\n",
              "      <th>REG_CITY_NOT_WORK_CITY</th>\n",
              "      <th>...</th>\n",
              "      <th>SK_ID_PREV_x</th>\n",
              "      <th>SK_ID_PREV_x</th>\n",
              "      <th>SK_ID_CURR_x</th>\n",
              "      <th>MONTHS_BALANCE_x</th>\n",
              "      <th>CNT_INSTALMENT</th>\n",
              "      <th>CNT_INSTALMENT_FUTURE</th>\n",
              "      <th>NAME_CONTRACT_STATUS_x</th>\n",
              "      <th>SK_DPD_x</th>\n",
              "      <th>SK_DPD_DEF_x</th>\n",
              "      <th>SK_ID_PREV_y</th>\n",
              "      <th>SK_ID_CURR_y</th>\n",
              "      <th>NUM_INSTALMENT_VERSION</th>\n",
              "      <th>NUM_INSTALMENT_NUMBER</th>\n",
              "      <th>DAYS_INSTALMENT</th>\n",
              "      <th>DAYS_ENTRY_PAYMENT</th>\n",
              "      <th>AMT_INSTALMENT</th>\n",
              "      <th>AMT_PAYMENT</th>\n",
              "      <th>SK_ID_PREV_y</th>\n",
              "      <th>SK_ID_CURR_y</th>\n",
              "      <th>MONTHS_BALANCE_y</th>\n",
              "      <th>AMT_BALANCE</th>\n",
              "      <th>AMT_CREDIT_LIMIT_ACTUAL</th>\n",
              "      <th>AMT_DRAWINGS_ATM_CURRENT</th>\n",
              "      <th>AMT_DRAWINGS_CURRENT</th>\n",
              "      <th>AMT_DRAWINGS_OTHER_CURRENT</th>\n",
              "      <th>AMT_DRAWINGS_POS_CURRENT</th>\n",
              "      <th>AMT_INST_MIN_REGULARITY</th>\n",
              "      <th>AMT_PAYMENT_CURRENT</th>\n",
              "      <th>AMT_PAYMENT_TOTAL_CURRENT</th>\n",
              "      <th>AMT_RECEIVABLE_PRINCIPAL</th>\n",
              "      <th>AMT_RECIVABLE</th>\n",
              "      <th>AMT_TOTAL_RECEIVABLE</th>\n",
              "      <th>CNT_DRAWINGS_ATM_CURRENT</th>\n",
              "      <th>CNT_DRAWINGS_CURRENT</th>\n",
              "      <th>CNT_DRAWINGS_OTHER_CURRENT</th>\n",
              "      <th>CNT_DRAWINGS_POS_CURRENT</th>\n",
              "      <th>CNT_INSTALMENT_MATURE_CUM</th>\n",
              "      <th>NAME_CONTRACT_STATUS_y</th>\n",
              "      <th>SK_DPD_y</th>\n",
              "      <th>SK_DPD_DEF_y</th>\n",
              "    </tr>\n",
              "  </thead>\n",
              "  <tbody>\n",
              "    <tr>\n",
              "      <th>0</th>\n",
              "      <td>100002</td>\n",
              "      <td>100002</td>\n",
              "      <td>1</td>\n",
              "      <td>Cash loans</td>\n",
              "      <td>M</td>\n",
              "      <td>N</td>\n",
              "      <td>Y</td>\n",
              "      <td>0</td>\n",
              "      <td>202500.0</td>\n",
              "      <td>406597.5</td>\n",
              "      <td>24700.5</td>\n",
              "      <td>351000.0</td>\n",
              "      <td>Unaccompanied</td>\n",
              "      <td>Working</td>\n",
              "      <td>Secondary / secondary special</td>\n",
              "      <td>Single / not married</td>\n",
              "      <td>House / apartment</td>\n",
              "      <td>0.018801</td>\n",
              "      <td>-9461</td>\n",
              "      <td>-637</td>\n",
              "      <td>-3648.0</td>\n",
              "      <td>-2120</td>\n",
              "      <td>NaN</td>\n",
              "      <td>1</td>\n",
              "      <td>1</td>\n",
              "      <td>0</td>\n",
              "      <td>1</td>\n",
              "      <td>1</td>\n",
              "      <td>0</td>\n",
              "      <td>Laborers</td>\n",
              "      <td>1.0</td>\n",
              "      <td>2</td>\n",
              "      <td>2</td>\n",
              "      <td>WEDNESDAY</td>\n",
              "      <td>10</td>\n",
              "      <td>0</td>\n",
              "      <td>0</td>\n",
              "      <td>0</td>\n",
              "      <td>0</td>\n",
              "      <td>0</td>\n",
              "      <td>...</td>\n",
              "      <td>2166066</td>\n",
              "      <td>2166066</td>\n",
              "      <td>203848</td>\n",
              "      <td>-7</td>\n",
              "      <td>12.0</td>\n",
              "      <td>12.0</td>\n",
              "      <td>Active</td>\n",
              "      <td>0</td>\n",
              "      <td>0</td>\n",
              "      <td>1970657</td>\n",
              "      <td>143023</td>\n",
              "      <td>1.0</td>\n",
              "      <td>3</td>\n",
              "      <td>-1034.0</td>\n",
              "      <td>-1054.0</td>\n",
              "      <td>4979.565</td>\n",
              "      <td>4979.565</td>\n",
              "      <td>1375340</td>\n",
              "      <td>446920</td>\n",
              "      <td>-23</td>\n",
              "      <td>0.0</td>\n",
              "      <td>112500</td>\n",
              "      <td>0.0</td>\n",
              "      <td>0.0</td>\n",
              "      <td>0.0</td>\n",
              "      <td>0.0</td>\n",
              "      <td>0.0</td>\n",
              "      <td>207.855</td>\n",
              "      <td>207.855</td>\n",
              "      <td>0.0</td>\n",
              "      <td>0.0</td>\n",
              "      <td>0.0</td>\n",
              "      <td>0.0</td>\n",
              "      <td>0</td>\n",
              "      <td>0.0</td>\n",
              "      <td>0.0</td>\n",
              "      <td>32.0</td>\n",
              "      <td>Active</td>\n",
              "      <td>0</td>\n",
              "      <td>0</td>\n",
              "    </tr>\n",
              "    <tr>\n",
              "      <th>1</th>\n",
              "      <td>100003</td>\n",
              "      <td>100003</td>\n",
              "      <td>0</td>\n",
              "      <td>Cash loans</td>\n",
              "      <td>F</td>\n",
              "      <td>N</td>\n",
              "      <td>N</td>\n",
              "      <td>0</td>\n",
              "      <td>270000.0</td>\n",
              "      <td>1293502.5</td>\n",
              "      <td>35698.5</td>\n",
              "      <td>1129500.0</td>\n",
              "      <td>Family</td>\n",
              "      <td>State servant</td>\n",
              "      <td>Higher education</td>\n",
              "      <td>Married</td>\n",
              "      <td>House / apartment</td>\n",
              "      <td>0.003541</td>\n",
              "      <td>-16765</td>\n",
              "      <td>-1188</td>\n",
              "      <td>-1186.0</td>\n",
              "      <td>-291</td>\n",
              "      <td>NaN</td>\n",
              "      <td>1</td>\n",
              "      <td>1</td>\n",
              "      <td>0</td>\n",
              "      <td>1</td>\n",
              "      <td>1</td>\n",
              "      <td>0</td>\n",
              "      <td>Core staff</td>\n",
              "      <td>2.0</td>\n",
              "      <td>1</td>\n",
              "      <td>1</td>\n",
              "      <td>MONDAY</td>\n",
              "      <td>11</td>\n",
              "      <td>0</td>\n",
              "      <td>0</td>\n",
              "      <td>0</td>\n",
              "      <td>0</td>\n",
              "      <td>0</td>\n",
              "      <td>...</td>\n",
              "      <td>2166066</td>\n",
              "      <td>2166066</td>\n",
              "      <td>203848</td>\n",
              "      <td>-7</td>\n",
              "      <td>12.0</td>\n",
              "      <td>12.0</td>\n",
              "      <td>Active</td>\n",
              "      <td>0</td>\n",
              "      <td>0</td>\n",
              "      <td>1970657</td>\n",
              "      <td>143023</td>\n",
              "      <td>1.0</td>\n",
              "      <td>3</td>\n",
              "      <td>-1034.0</td>\n",
              "      <td>-1054.0</td>\n",
              "      <td>4979.565</td>\n",
              "      <td>4979.565</td>\n",
              "      <td>1375340</td>\n",
              "      <td>446920</td>\n",
              "      <td>-23</td>\n",
              "      <td>0.0</td>\n",
              "      <td>112500</td>\n",
              "      <td>0.0</td>\n",
              "      <td>0.0</td>\n",
              "      <td>0.0</td>\n",
              "      <td>0.0</td>\n",
              "      <td>0.0</td>\n",
              "      <td>207.855</td>\n",
              "      <td>207.855</td>\n",
              "      <td>0.0</td>\n",
              "      <td>0.0</td>\n",
              "      <td>0.0</td>\n",
              "      <td>0.0</td>\n",
              "      <td>0</td>\n",
              "      <td>0.0</td>\n",
              "      <td>0.0</td>\n",
              "      <td>32.0</td>\n",
              "      <td>Active</td>\n",
              "      <td>0</td>\n",
              "      <td>0</td>\n",
              "    </tr>\n",
              "    <tr>\n",
              "      <th>2</th>\n",
              "      <td>100004</td>\n",
              "      <td>100004</td>\n",
              "      <td>0</td>\n",
              "      <td>Revolving loans</td>\n",
              "      <td>M</td>\n",
              "      <td>Y</td>\n",
              "      <td>Y</td>\n",
              "      <td>0</td>\n",
              "      <td>67500.0</td>\n",
              "      <td>135000.0</td>\n",
              "      <td>6750.0</td>\n",
              "      <td>135000.0</td>\n",
              "      <td>Unaccompanied</td>\n",
              "      <td>Working</td>\n",
              "      <td>Secondary / secondary special</td>\n",
              "      <td>Single / not married</td>\n",
              "      <td>House / apartment</td>\n",
              "      <td>0.010032</td>\n",
              "      <td>-19046</td>\n",
              "      <td>-225</td>\n",
              "      <td>-4260.0</td>\n",
              "      <td>-2531</td>\n",
              "      <td>26.0</td>\n",
              "      <td>1</td>\n",
              "      <td>1</td>\n",
              "      <td>1</td>\n",
              "      <td>1</td>\n",
              "      <td>1</td>\n",
              "      <td>0</td>\n",
              "      <td>Laborers</td>\n",
              "      <td>1.0</td>\n",
              "      <td>2</td>\n",
              "      <td>2</td>\n",
              "      <td>MONDAY</td>\n",
              "      <td>9</td>\n",
              "      <td>0</td>\n",
              "      <td>0</td>\n",
              "      <td>0</td>\n",
              "      <td>0</td>\n",
              "      <td>0</td>\n",
              "      <td>...</td>\n",
              "      <td>2166066</td>\n",
              "      <td>2166066</td>\n",
              "      <td>203848</td>\n",
              "      <td>-7</td>\n",
              "      <td>12.0</td>\n",
              "      <td>12.0</td>\n",
              "      <td>Active</td>\n",
              "      <td>0</td>\n",
              "      <td>0</td>\n",
              "      <td>1970657</td>\n",
              "      <td>143023</td>\n",
              "      <td>1.0</td>\n",
              "      <td>3</td>\n",
              "      <td>-1034.0</td>\n",
              "      <td>-1054.0</td>\n",
              "      <td>4979.565</td>\n",
              "      <td>4979.565</td>\n",
              "      <td>1375340</td>\n",
              "      <td>446920</td>\n",
              "      <td>-23</td>\n",
              "      <td>0.0</td>\n",
              "      <td>112500</td>\n",
              "      <td>0.0</td>\n",
              "      <td>0.0</td>\n",
              "      <td>0.0</td>\n",
              "      <td>0.0</td>\n",
              "      <td>0.0</td>\n",
              "      <td>207.855</td>\n",
              "      <td>207.855</td>\n",
              "      <td>0.0</td>\n",
              "      <td>0.0</td>\n",
              "      <td>0.0</td>\n",
              "      <td>0.0</td>\n",
              "      <td>0</td>\n",
              "      <td>0.0</td>\n",
              "      <td>0.0</td>\n",
              "      <td>32.0</td>\n",
              "      <td>Active</td>\n",
              "      <td>0</td>\n",
              "      <td>0</td>\n",
              "    </tr>\n",
              "    <tr>\n",
              "      <th>3</th>\n",
              "      <td>100006</td>\n",
              "      <td>100006</td>\n",
              "      <td>0</td>\n",
              "      <td>Cash loans</td>\n",
              "      <td>F</td>\n",
              "      <td>N</td>\n",
              "      <td>Y</td>\n",
              "      <td>0</td>\n",
              "      <td>135000.0</td>\n",
              "      <td>312682.5</td>\n",
              "      <td>29686.5</td>\n",
              "      <td>297000.0</td>\n",
              "      <td>Unaccompanied</td>\n",
              "      <td>Working</td>\n",
              "      <td>Secondary / secondary special</td>\n",
              "      <td>Civil marriage</td>\n",
              "      <td>House / apartment</td>\n",
              "      <td>0.008019</td>\n",
              "      <td>-19005</td>\n",
              "      <td>-3039</td>\n",
              "      <td>-9833.0</td>\n",
              "      <td>-2437</td>\n",
              "      <td>NaN</td>\n",
              "      <td>1</td>\n",
              "      <td>1</td>\n",
              "      <td>0</td>\n",
              "      <td>1</td>\n",
              "      <td>0</td>\n",
              "      <td>0</td>\n",
              "      <td>Laborers</td>\n",
              "      <td>2.0</td>\n",
              "      <td>2</td>\n",
              "      <td>2</td>\n",
              "      <td>WEDNESDAY</td>\n",
              "      <td>17</td>\n",
              "      <td>0</td>\n",
              "      <td>0</td>\n",
              "      <td>0</td>\n",
              "      <td>0</td>\n",
              "      <td>0</td>\n",
              "      <td>...</td>\n",
              "      <td>2166066</td>\n",
              "      <td>2166066</td>\n",
              "      <td>203848</td>\n",
              "      <td>-7</td>\n",
              "      <td>12.0</td>\n",
              "      <td>12.0</td>\n",
              "      <td>Active</td>\n",
              "      <td>0</td>\n",
              "      <td>0</td>\n",
              "      <td>1970657</td>\n",
              "      <td>143023</td>\n",
              "      <td>1.0</td>\n",
              "      <td>3</td>\n",
              "      <td>-1034.0</td>\n",
              "      <td>-1054.0</td>\n",
              "      <td>4979.565</td>\n",
              "      <td>4979.565</td>\n",
              "      <td>1375340</td>\n",
              "      <td>446920</td>\n",
              "      <td>-23</td>\n",
              "      <td>0.0</td>\n",
              "      <td>112500</td>\n",
              "      <td>0.0</td>\n",
              "      <td>0.0</td>\n",
              "      <td>0.0</td>\n",
              "      <td>0.0</td>\n",
              "      <td>0.0</td>\n",
              "      <td>207.855</td>\n",
              "      <td>207.855</td>\n",
              "      <td>0.0</td>\n",
              "      <td>0.0</td>\n",
              "      <td>0.0</td>\n",
              "      <td>0.0</td>\n",
              "      <td>0</td>\n",
              "      <td>0.0</td>\n",
              "      <td>0.0</td>\n",
              "      <td>32.0</td>\n",
              "      <td>Active</td>\n",
              "      <td>0</td>\n",
              "      <td>0</td>\n",
              "    </tr>\n",
              "    <tr>\n",
              "      <th>4</th>\n",
              "      <td>100007</td>\n",
              "      <td>100007</td>\n",
              "      <td>0</td>\n",
              "      <td>Cash loans</td>\n",
              "      <td>M</td>\n",
              "      <td>N</td>\n",
              "      <td>Y</td>\n",
              "      <td>0</td>\n",
              "      <td>121500.0</td>\n",
              "      <td>513000.0</td>\n",
              "      <td>21865.5</td>\n",
              "      <td>513000.0</td>\n",
              "      <td>Unaccompanied</td>\n",
              "      <td>Working</td>\n",
              "      <td>Secondary / secondary special</td>\n",
              "      <td>Single / not married</td>\n",
              "      <td>House / apartment</td>\n",
              "      <td>0.028663</td>\n",
              "      <td>-19932</td>\n",
              "      <td>-3038</td>\n",
              "      <td>-4311.0</td>\n",
              "      <td>-3458</td>\n",
              "      <td>NaN</td>\n",
              "      <td>1</td>\n",
              "      <td>1</td>\n",
              "      <td>0</td>\n",
              "      <td>1</td>\n",
              "      <td>0</td>\n",
              "      <td>0</td>\n",
              "      <td>Core staff</td>\n",
              "      <td>1.0</td>\n",
              "      <td>2</td>\n",
              "      <td>2</td>\n",
              "      <td>THURSDAY</td>\n",
              "      <td>11</td>\n",
              "      <td>0</td>\n",
              "      <td>0</td>\n",
              "      <td>0</td>\n",
              "      <td>0</td>\n",
              "      <td>1</td>\n",
              "      <td>...</td>\n",
              "      <td>2166066</td>\n",
              "      <td>2166066</td>\n",
              "      <td>203848</td>\n",
              "      <td>-7</td>\n",
              "      <td>12.0</td>\n",
              "      <td>12.0</td>\n",
              "      <td>Active</td>\n",
              "      <td>0</td>\n",
              "      <td>0</td>\n",
              "      <td>1970657</td>\n",
              "      <td>143023</td>\n",
              "      <td>1.0</td>\n",
              "      <td>3</td>\n",
              "      <td>-1034.0</td>\n",
              "      <td>-1054.0</td>\n",
              "      <td>4979.565</td>\n",
              "      <td>4979.565</td>\n",
              "      <td>1375340</td>\n",
              "      <td>446920</td>\n",
              "      <td>-23</td>\n",
              "      <td>0.0</td>\n",
              "      <td>112500</td>\n",
              "      <td>0.0</td>\n",
              "      <td>0.0</td>\n",
              "      <td>0.0</td>\n",
              "      <td>0.0</td>\n",
              "      <td>0.0</td>\n",
              "      <td>207.855</td>\n",
              "      <td>207.855</td>\n",
              "      <td>0.0</td>\n",
              "      <td>0.0</td>\n",
              "      <td>0.0</td>\n",
              "      <td>0.0</td>\n",
              "      <td>0</td>\n",
              "      <td>0.0</td>\n",
              "      <td>0.0</td>\n",
              "      <td>32.0</td>\n",
              "      <td>Active</td>\n",
              "      <td>0</td>\n",
              "      <td>0</td>\n",
              "    </tr>\n",
              "    <tr>\n",
              "      <th>5</th>\n",
              "      <td>100008</td>\n",
              "      <td>100008</td>\n",
              "      <td>0</td>\n",
              "      <td>Cash loans</td>\n",
              "      <td>M</td>\n",
              "      <td>N</td>\n",
              "      <td>Y</td>\n",
              "      <td>0</td>\n",
              "      <td>99000.0</td>\n",
              "      <td>490495.5</td>\n",
              "      <td>27517.5</td>\n",
              "      <td>454500.0</td>\n",
              "      <td>Spouse, partner</td>\n",
              "      <td>State servant</td>\n",
              "      <td>Secondary / secondary special</td>\n",
              "      <td>Married</td>\n",
              "      <td>House / apartment</td>\n",
              "      <td>0.035792</td>\n",
              "      <td>-16941</td>\n",
              "      <td>-1588</td>\n",
              "      <td>-4970.0</td>\n",
              "      <td>-477</td>\n",
              "      <td>NaN</td>\n",
              "      <td>1</td>\n",
              "      <td>1</td>\n",
              "      <td>1</td>\n",
              "      <td>1</td>\n",
              "      <td>1</td>\n",
              "      <td>0</td>\n",
              "      <td>Laborers</td>\n",
              "      <td>2.0</td>\n",
              "      <td>2</td>\n",
              "      <td>2</td>\n",
              "      <td>WEDNESDAY</td>\n",
              "      <td>16</td>\n",
              "      <td>0</td>\n",
              "      <td>0</td>\n",
              "      <td>0</td>\n",
              "      <td>0</td>\n",
              "      <td>0</td>\n",
              "      <td>...</td>\n",
              "      <td>2166066</td>\n",
              "      <td>2166066</td>\n",
              "      <td>203848</td>\n",
              "      <td>-7</td>\n",
              "      <td>12.0</td>\n",
              "      <td>12.0</td>\n",
              "      <td>Active</td>\n",
              "      <td>0</td>\n",
              "      <td>0</td>\n",
              "      <td>1970657</td>\n",
              "      <td>143023</td>\n",
              "      <td>1.0</td>\n",
              "      <td>3</td>\n",
              "      <td>-1034.0</td>\n",
              "      <td>-1054.0</td>\n",
              "      <td>4979.565</td>\n",
              "      <td>4979.565</td>\n",
              "      <td>1375340</td>\n",
              "      <td>446920</td>\n",
              "      <td>-23</td>\n",
              "      <td>0.0</td>\n",
              "      <td>112500</td>\n",
              "      <td>0.0</td>\n",
              "      <td>0.0</td>\n",
              "      <td>0.0</td>\n",
              "      <td>0.0</td>\n",
              "      <td>0.0</td>\n",
              "      <td>207.855</td>\n",
              "      <td>207.855</td>\n",
              "      <td>0.0</td>\n",
              "      <td>0.0</td>\n",
              "      <td>0.0</td>\n",
              "      <td>0.0</td>\n",
              "      <td>0</td>\n",
              "      <td>0.0</td>\n",
              "      <td>0.0</td>\n",
              "      <td>32.0</td>\n",
              "      <td>Active</td>\n",
              "      <td>0</td>\n",
              "      <td>0</td>\n",
              "    </tr>\n",
              "    <tr>\n",
              "      <th>6</th>\n",
              "      <td>100009</td>\n",
              "      <td>100009</td>\n",
              "      <td>0</td>\n",
              "      <td>Cash loans</td>\n",
              "      <td>F</td>\n",
              "      <td>Y</td>\n",
              "      <td>Y</td>\n",
              "      <td>1</td>\n",
              "      <td>171000.0</td>\n",
              "      <td>1560726.0</td>\n",
              "      <td>41301.0</td>\n",
              "      <td>1395000.0</td>\n",
              "      <td>Unaccompanied</td>\n",
              "      <td>Commercial associate</td>\n",
              "      <td>Higher education</td>\n",
              "      <td>Married</td>\n",
              "      <td>House / apartment</td>\n",
              "      <td>0.035792</td>\n",
              "      <td>-13778</td>\n",
              "      <td>-3130</td>\n",
              "      <td>-1213.0</td>\n",
              "      <td>-619</td>\n",
              "      <td>17.0</td>\n",
              "      <td>1</td>\n",
              "      <td>1</td>\n",
              "      <td>0</td>\n",
              "      <td>1</td>\n",
              "      <td>1</td>\n",
              "      <td>0</td>\n",
              "      <td>Accountants</td>\n",
              "      <td>3.0</td>\n",
              "      <td>2</td>\n",
              "      <td>2</td>\n",
              "      <td>SUNDAY</td>\n",
              "      <td>16</td>\n",
              "      <td>0</td>\n",
              "      <td>0</td>\n",
              "      <td>0</td>\n",
              "      <td>0</td>\n",
              "      <td>0</td>\n",
              "      <td>...</td>\n",
              "      <td>2166066</td>\n",
              "      <td>2166066</td>\n",
              "      <td>203848</td>\n",
              "      <td>-7</td>\n",
              "      <td>12.0</td>\n",
              "      <td>12.0</td>\n",
              "      <td>Active</td>\n",
              "      <td>0</td>\n",
              "      <td>0</td>\n",
              "      <td>1970657</td>\n",
              "      <td>143023</td>\n",
              "      <td>1.0</td>\n",
              "      <td>3</td>\n",
              "      <td>-1034.0</td>\n",
              "      <td>-1054.0</td>\n",
              "      <td>4979.565</td>\n",
              "      <td>4979.565</td>\n",
              "      <td>1375340</td>\n",
              "      <td>446920</td>\n",
              "      <td>-23</td>\n",
              "      <td>0.0</td>\n",
              "      <td>112500</td>\n",
              "      <td>0.0</td>\n",
              "      <td>0.0</td>\n",
              "      <td>0.0</td>\n",
              "      <td>0.0</td>\n",
              "      <td>0.0</td>\n",
              "      <td>207.855</td>\n",
              "      <td>207.855</td>\n",
              "      <td>0.0</td>\n",
              "      <td>0.0</td>\n",
              "      <td>0.0</td>\n",
              "      <td>0.0</td>\n",
              "      <td>0</td>\n",
              "      <td>0.0</td>\n",
              "      <td>0.0</td>\n",
              "      <td>32.0</td>\n",
              "      <td>Active</td>\n",
              "      <td>0</td>\n",
              "      <td>0</td>\n",
              "    </tr>\n",
              "    <tr>\n",
              "      <th>7</th>\n",
              "      <td>100010</td>\n",
              "      <td>100010</td>\n",
              "      <td>0</td>\n",
              "      <td>Cash loans</td>\n",
              "      <td>M</td>\n",
              "      <td>Y</td>\n",
              "      <td>Y</td>\n",
              "      <td>0</td>\n",
              "      <td>360000.0</td>\n",
              "      <td>1530000.0</td>\n",
              "      <td>42075.0</td>\n",
              "      <td>1530000.0</td>\n",
              "      <td>Unaccompanied</td>\n",
              "      <td>State servant</td>\n",
              "      <td>Higher education</td>\n",
              "      <td>Married</td>\n",
              "      <td>House / apartment</td>\n",
              "      <td>0.003122</td>\n",
              "      <td>-18850</td>\n",
              "      <td>-449</td>\n",
              "      <td>-4597.0</td>\n",
              "      <td>-2379</td>\n",
              "      <td>8.0</td>\n",
              "      <td>1</td>\n",
              "      <td>1</td>\n",
              "      <td>1</td>\n",
              "      <td>1</td>\n",
              "      <td>0</td>\n",
              "      <td>0</td>\n",
              "      <td>Managers</td>\n",
              "      <td>2.0</td>\n",
              "      <td>3</td>\n",
              "      <td>3</td>\n",
              "      <td>MONDAY</td>\n",
              "      <td>16</td>\n",
              "      <td>0</td>\n",
              "      <td>0</td>\n",
              "      <td>0</td>\n",
              "      <td>0</td>\n",
              "      <td>1</td>\n",
              "      <td>...</td>\n",
              "      <td>2166066</td>\n",
              "      <td>2166066</td>\n",
              "      <td>203848</td>\n",
              "      <td>-7</td>\n",
              "      <td>12.0</td>\n",
              "      <td>12.0</td>\n",
              "      <td>Active</td>\n",
              "      <td>0</td>\n",
              "      <td>0</td>\n",
              "      <td>1970657</td>\n",
              "      <td>143023</td>\n",
              "      <td>1.0</td>\n",
              "      <td>3</td>\n",
              "      <td>-1034.0</td>\n",
              "      <td>-1054.0</td>\n",
              "      <td>4979.565</td>\n",
              "      <td>4979.565</td>\n",
              "      <td>1375340</td>\n",
              "      <td>446920</td>\n",
              "      <td>-23</td>\n",
              "      <td>0.0</td>\n",
              "      <td>112500</td>\n",
              "      <td>0.0</td>\n",
              "      <td>0.0</td>\n",
              "      <td>0.0</td>\n",
              "      <td>0.0</td>\n",
              "      <td>0.0</td>\n",
              "      <td>207.855</td>\n",
              "      <td>207.855</td>\n",
              "      <td>0.0</td>\n",
              "      <td>0.0</td>\n",
              "      <td>0.0</td>\n",
              "      <td>0.0</td>\n",
              "      <td>0</td>\n",
              "      <td>0.0</td>\n",
              "      <td>0.0</td>\n",
              "      <td>32.0</td>\n",
              "      <td>Active</td>\n",
              "      <td>0</td>\n",
              "      <td>0</td>\n",
              "    </tr>\n",
              "    <tr>\n",
              "      <th>8</th>\n",
              "      <td>100011</td>\n",
              "      <td>100011</td>\n",
              "      <td>0</td>\n",
              "      <td>Cash loans</td>\n",
              "      <td>F</td>\n",
              "      <td>N</td>\n",
              "      <td>Y</td>\n",
              "      <td>0</td>\n",
              "      <td>112500.0</td>\n",
              "      <td>1019610.0</td>\n",
              "      <td>33826.5</td>\n",
              "      <td>913500.0</td>\n",
              "      <td>Children</td>\n",
              "      <td>Pensioner</td>\n",
              "      <td>Secondary / secondary special</td>\n",
              "      <td>Married</td>\n",
              "      <td>House / apartment</td>\n",
              "      <td>0.018634</td>\n",
              "      <td>-20099</td>\n",
              "      <td>365243</td>\n",
              "      <td>-7427.0</td>\n",
              "      <td>-3514</td>\n",
              "      <td>NaN</td>\n",
              "      <td>1</td>\n",
              "      <td>0</td>\n",
              "      <td>0</td>\n",
              "      <td>1</td>\n",
              "      <td>0</td>\n",
              "      <td>0</td>\n",
              "      <td>NaN</td>\n",
              "      <td>2.0</td>\n",
              "      <td>2</td>\n",
              "      <td>2</td>\n",
              "      <td>WEDNESDAY</td>\n",
              "      <td>14</td>\n",
              "      <td>0</td>\n",
              "      <td>0</td>\n",
              "      <td>0</td>\n",
              "      <td>0</td>\n",
              "      <td>0</td>\n",
              "      <td>...</td>\n",
              "      <td>2166066</td>\n",
              "      <td>2166066</td>\n",
              "      <td>203848</td>\n",
              "      <td>-7</td>\n",
              "      <td>12.0</td>\n",
              "      <td>12.0</td>\n",
              "      <td>Active</td>\n",
              "      <td>0</td>\n",
              "      <td>0</td>\n",
              "      <td>1970657</td>\n",
              "      <td>143023</td>\n",
              "      <td>1.0</td>\n",
              "      <td>3</td>\n",
              "      <td>-1034.0</td>\n",
              "      <td>-1054.0</td>\n",
              "      <td>4979.565</td>\n",
              "      <td>4979.565</td>\n",
              "      <td>1375340</td>\n",
              "      <td>446920</td>\n",
              "      <td>-23</td>\n",
              "      <td>0.0</td>\n",
              "      <td>112500</td>\n",
              "      <td>0.0</td>\n",
              "      <td>0.0</td>\n",
              "      <td>0.0</td>\n",
              "      <td>0.0</td>\n",
              "      <td>0.0</td>\n",
              "      <td>207.855</td>\n",
              "      <td>207.855</td>\n",
              "      <td>0.0</td>\n",
              "      <td>0.0</td>\n",
              "      <td>0.0</td>\n",
              "      <td>0.0</td>\n",
              "      <td>0</td>\n",
              "      <td>0.0</td>\n",
              "      <td>0.0</td>\n",
              "      <td>32.0</td>\n",
              "      <td>Active</td>\n",
              "      <td>0</td>\n",
              "      <td>0</td>\n",
              "    </tr>\n",
              "    <tr>\n",
              "      <th>9</th>\n",
              "      <td>100012</td>\n",
              "      <td>100012</td>\n",
              "      <td>0</td>\n",
              "      <td>Revolving loans</td>\n",
              "      <td>M</td>\n",
              "      <td>N</td>\n",
              "      <td>Y</td>\n",
              "      <td>0</td>\n",
              "      <td>135000.0</td>\n",
              "      <td>405000.0</td>\n",
              "      <td>20250.0</td>\n",
              "      <td>405000.0</td>\n",
              "      <td>Unaccompanied</td>\n",
              "      <td>Working</td>\n",
              "      <td>Secondary / secondary special</td>\n",
              "      <td>Single / not married</td>\n",
              "      <td>House / apartment</td>\n",
              "      <td>0.019689</td>\n",
              "      <td>-14469</td>\n",
              "      <td>-2019</td>\n",
              "      <td>-14437.0</td>\n",
              "      <td>-3992</td>\n",
              "      <td>NaN</td>\n",
              "      <td>1</td>\n",
              "      <td>1</td>\n",
              "      <td>0</td>\n",
              "      <td>1</td>\n",
              "      <td>0</td>\n",
              "      <td>0</td>\n",
              "      <td>Laborers</td>\n",
              "      <td>1.0</td>\n",
              "      <td>2</td>\n",
              "      <td>2</td>\n",
              "      <td>THURSDAY</td>\n",
              "      <td>8</td>\n",
              "      <td>0</td>\n",
              "      <td>0</td>\n",
              "      <td>0</td>\n",
              "      <td>0</td>\n",
              "      <td>0</td>\n",
              "      <td>...</td>\n",
              "      <td>2166066</td>\n",
              "      <td>2166066</td>\n",
              "      <td>203848</td>\n",
              "      <td>-7</td>\n",
              "      <td>12.0</td>\n",
              "      <td>12.0</td>\n",
              "      <td>Active</td>\n",
              "      <td>0</td>\n",
              "      <td>0</td>\n",
              "      <td>1970657</td>\n",
              "      <td>143023</td>\n",
              "      <td>1.0</td>\n",
              "      <td>3</td>\n",
              "      <td>-1034.0</td>\n",
              "      <td>-1054.0</td>\n",
              "      <td>4979.565</td>\n",
              "      <td>4979.565</td>\n",
              "      <td>1375340</td>\n",
              "      <td>446920</td>\n",
              "      <td>-23</td>\n",
              "      <td>0.0</td>\n",
              "      <td>112500</td>\n",
              "      <td>0.0</td>\n",
              "      <td>0.0</td>\n",
              "      <td>0.0</td>\n",
              "      <td>0.0</td>\n",
              "      <td>0.0</td>\n",
              "      <td>207.855</td>\n",
              "      <td>207.855</td>\n",
              "      <td>0.0</td>\n",
              "      <td>0.0</td>\n",
              "      <td>0.0</td>\n",
              "      <td>0.0</td>\n",
              "      <td>0</td>\n",
              "      <td>0.0</td>\n",
              "      <td>0.0</td>\n",
              "      <td>32.0</td>\n",
              "      <td>Active</td>\n",
              "      <td>0</td>\n",
              "      <td>0</td>\n",
              "    </tr>\n",
              "  </tbody>\n",
              "</table>\n",
              "<p>10 rows × 220 columns</p>\n",
              "</div>"
            ],
            "text/plain": [
              "   SK_ID_CURR  SK_ID_CURR_x  ...  SK_DPD_y SK_DPD_DEF_y\n",
              "0      100002        100002  ...         0            0\n",
              "1      100003        100003  ...         0            0\n",
              "2      100004        100004  ...         0            0\n",
              "3      100006        100006  ...         0            0\n",
              "4      100007        100007  ...         0            0\n",
              "5      100008        100008  ...         0            0\n",
              "6      100009        100009  ...         0            0\n",
              "7      100010        100010  ...         0            0\n",
              "8      100011        100011  ...         0            0\n",
              "9      100012        100012  ...         0            0\n",
              "\n",
              "[10 rows x 220 columns]"
            ]
          },
          "metadata": {
            "tags": []
          },
          "execution_count": 24
        }
      ]
    },
    {
      "cell_type": "markdown",
      "metadata": {
        "id": "lgUThiKe-1uB",
        "colab_type": "text"
      },
      "source": [
        "i was able to merge the file but because of the size of the file processing any thing on the final dataframe the colab server crashes so i would be modelling over the train set instead."
      ]
    },
    {
      "cell_type": "code",
      "metadata": {
        "id": "G0_-HfMeBUU2",
        "colab_type": "code",
        "colab": {
          "base_uri": "https://localhost:8080/",
          "height": 104
        },
        "outputId": "88458d94-c29c-45fe-ff9f-c6ed12b4a9fd"
      },
      "source": [
        "train.info()"
      ],
      "execution_count": 18,
      "outputs": [
        {
          "output_type": "stream",
          "text": [
            "<class 'pandas.core.frame.DataFrame'>\n",
            "RangeIndex: 307511 entries, 0 to 307510\n",
            "Columns: 122 entries, SK_ID_CURR to AMT_REQ_CREDIT_BUREAU_YEAR\n",
            "dtypes: float64(65), int64(41), object(16)\n",
            "memory usage: 286.2+ MB\n"
          ],
          "name": "stdout"
        }
      ]
    },
    {
      "cell_type": "code",
      "metadata": {
        "id": "zqcXVhE_FxMc",
        "colab_type": "code",
        "colab": {}
      },
      "source": [
        "from sklearn.preprocessing import LabelEncoder\n",
        "le=LabelEncoder()\n",
        "\n",
        "for i in train:\n",
        "  if train[i].dtype=='object':\n",
        "        if len(list(train[i].unique()))<=2:\n",
        "            le.fit(train[i])\n",
        "            train[i]=le.transform(train[i])\n",
        "            test[i]=le.transform(test[i])"
      ],
      "execution_count": 31,
      "outputs": []
    },
    {
      "cell_type": "code",
      "metadata": {
        "id": "fGHfEXJ5GB3I",
        "colab_type": "code",
        "colab": {}
      },
      "source": [
        "train=pd.get_dummies(train)\n",
        "test=pd.get_dummies(test)"
      ],
      "execution_count": 32,
      "outputs": []
    },
    {
      "cell_type": "code",
      "metadata": {
        "id": "YmkcNUGDBpER",
        "colab_type": "code",
        "colab": {}
      },
      "source": [
        "x=train.drop(columns=['TARGET'])\n",
        "y=train['TARGET']"
      ],
      "execution_count": 33,
      "outputs": []
    },
    {
      "cell_type": "code",
      "metadata": {
        "id": "EwfVudFNGukA",
        "colab_type": "code",
        "colab": {}
      },
      "source": [
        "from sklearn.model_selection import train_test_split\n",
        "x_train,x_test,y_train,y_test = train_test_split(x,y,test_size =0.2,random_state =10)"
      ],
      "execution_count": 35,
      "outputs": []
    },
    {
      "cell_type": "code",
      "metadata": {
        "id": "B3CWPPVXG3Em",
        "colab_type": "code",
        "colab": {}
      },
      "source": [
        "from sklearn.preprocessing import MinMaxScaler\n",
        "from sklearn.impute import SimpleImputer\n",
        "\n",
        "imputer=SimpleImputer(strategy = 'median')\n",
        "\n",
        "x_train=imputer.fit_transform(x_train)\n",
        "x_test=imputer.transform(x_test)\n",
        "\n",
        "scaler=MinMaxScaler(feature_range = (0, 1))\n",
        "x_train_scale=scaler.fit_transform(x_train)\n",
        "x_test_scale=scaler.transform(x_test)"
      ],
      "execution_count": 52,
      "outputs": []
    },
    {
      "cell_type": "code",
      "metadata": {
        "id": "pHDK5lc4HBxq",
        "colab_type": "code",
        "colab": {
          "base_uri": "https://localhost:8080/",
          "height": 104
        },
        "outputId": "b4f61f0b-b431-4c71-db0a-970d050d0e56"
      },
      "source": [
        "from sklearn.linear_model import LogisticRegression\n",
        "model = LogisticRegression(solver='liblinear', random_state=0)\n",
        "model.fit(x_train,y_train)\n"
      ],
      "execution_count": 53,
      "outputs": [
        {
          "output_type": "execute_result",
          "data": {
            "text/plain": [
              "LogisticRegression(C=1.0, class_weight=None, dual=False, fit_intercept=True,\n",
              "                   intercept_scaling=1, l1_ratio=None, max_iter=100,\n",
              "                   multi_class='auto', n_jobs=None, penalty='l2',\n",
              "                   random_state=0, solver='liblinear', tol=0.0001, verbose=0,\n",
              "                   warm_start=False)"
            ]
          },
          "metadata": {
            "tags": []
          },
          "execution_count": 53
        }
      ]
    },
    {
      "cell_type": "code",
      "metadata": {
        "id": "3uKMGWWvKa_Z",
        "colab_type": "code",
        "colab": {}
      },
      "source": [
        "pred = model.predict(x_train)"
      ],
      "execution_count": 59,
      "outputs": []
    },
    {
      "cell_type": "code",
      "metadata": {
        "id": "VS5V9EKkK2Ro",
        "colab_type": "code",
        "colab": {
          "base_uri": "https://localhost:8080/",
          "height": 35
        },
        "outputId": "a1c5b721-92d3-4f12-cc86-835609827f4f"
      },
      "source": [
        "model.score(x_train, y_train)"
      ],
      "execution_count": 58,
      "outputs": [
        {
          "output_type": "execute_result",
          "data": {
            "text/plain": [
              "0.9192587232935514"
            ]
          },
          "metadata": {
            "tags": []
          },
          "execution_count": 58
        }
      ]
    },
    {
      "cell_type": "code",
      "metadata": {
        "id": "k4kF0lG8MJbh",
        "colab_type": "code",
        "colab": {
          "base_uri": "https://localhost:8080/",
          "height": 173
        },
        "outputId": "7fb5a48a-2630-40e8-a06c-6b06d6e1b18d"
      },
      "source": [
        "from sklearn.metrics import classification_report\n",
        "print(classification_report(y_train, pred))"
      ],
      "execution_count": 61,
      "outputs": [
        {
          "output_type": "stream",
          "text": [
            "              precision    recall  f1-score   support\n",
            "\n",
            "           0       0.92      1.00      0.96    226148\n",
            "           1       0.00      0.00      0.00     19860\n",
            "\n",
            "    accuracy                           0.92    246008\n",
            "   macro avg       0.46      0.50      0.48    246008\n",
            "weighted avg       0.85      0.92      0.88    246008\n",
            "\n"
          ],
          "name": "stdout"
        }
      ]
    },
    {
      "cell_type": "code",
      "metadata": {
        "id": "n6TSBetcA-Hb",
        "colab_type": "code",
        "colab": {
          "base_uri": "https://localhost:8080/",
          "height": 35
        },
        "outputId": "2efd1d49-cf09-4bff-ea33-1edc00228e08"
      },
      "source": [
        "from sklearn.ensemble import RandomForestClassifier\n",
        "randomforest=RandomForestClassifier(max_depth=4, random_state=10)\n",
        "randomforest.fit(x_train_scale,y_train)\n",
        "\n",
        "from sklearn import metrics\n",
        "y_pred=randomforest.predict(x_test)\n",
        "print(metrics.accuracy_score(y_test,y_pred))"
      ],
      "execution_count": 38,
      "outputs": [
        {
          "output_type": "stream",
          "text": [
            "0.9192722306228964\n"
          ],
          "name": "stdout"
        }
      ]
    },
    {
      "cell_type": "code",
      "metadata": {
        "id": "u_NimAyxBG7Q",
        "colab_type": "code",
        "colab": {}
      },
      "source": [
        "import xgboost as xgb\n",
        "from sklearn.metrics import mean_squared_error\n",
        "\n",
        "dmatrix = xgb.DMatrix(data=x,label=y)"
      ],
      "execution_count": 43,
      "outputs": []
    },
    {
      "cell_type": "code",
      "metadata": {
        "id": "apebZEf7I77l",
        "colab_type": "code",
        "colab": {}
      },
      "source": [
        "xg_reg = xgb.XGBRegressor(objective ='reg:linear', colsample_bytree = 0.3, learning_rate = 0.1,max_depth = 5, alpha = 10, n_estimators = 10)"
      ],
      "execution_count": 44,
      "outputs": []
    },
    {
      "cell_type": "code",
      "metadata": {
        "id": "-KXIgCcwJCdz",
        "colab_type": "code",
        "colab": {
          "base_uri": "https://localhost:8080/",
          "height": 55
        },
        "outputId": "a48cd8ba-9915-4b15-cb09-bb65eb09d904"
      },
      "source": [
        "xg_reg.fit(x_train,y_train)\n",
        "\n",
        "pred = xg_reg.predict(x_test)"
      ],
      "execution_count": 45,
      "outputs": [
        {
          "output_type": "stream",
          "text": [
            "[18:02:07] WARNING: /workspace/src/objective/regression_obj.cu:152: reg:linear is now deprecated in favor of reg:squarederror.\n"
          ],
          "name": "stdout"
        }
      ]
    },
    {
      "cell_type": "code",
      "metadata": {
        "id": "aSLj82bpJHCc",
        "colab_type": "code",
        "colab": {
          "base_uri": "https://localhost:8080/",
          "height": 35
        },
        "outputId": "8e4c2b91-2845-4f26-aee8-d1e7d4013b88"
      },
      "source": [
        "import numpy as np\n",
        "r_mean_square_error = np.sqrt(mean_squared_error(y_test, pred))\n",
        "print(\"RMSE: %f\" % (r_mean_square_error))"
      ],
      "execution_count": 47,
      "outputs": [
        {
          "output_type": "stream",
          "text": [
            "RMSE: 0.305382\n"
          ],
          "name": "stdout"
        }
      ]
    },
    {
      "cell_type": "code",
      "metadata": {
        "id": "Mw02Td6kJWPS",
        "colab_type": "code",
        "colab": {
          "base_uri": "https://localhost:8080/",
          "height": 35
        },
        "outputId": "21ca25dc-e202-494e-ab7c-b1cb01ee4f60"
      },
      "source": [
        "from sklearn.metrics import roc_auc_score\n",
        "score = roc_auc_score(y_test,pred)\n",
        "print(score)"
      ],
      "execution_count": 50,
      "outputs": [
        {
          "output_type": "stream",
          "text": [
            "0.7293659012571534\n"
          ],
          "name": "stdout"
        }
      ]
    },
    {
      "cell_type": "code",
      "metadata": {
        "id": "ClE1d2oJJcTt",
        "colab_type": "code",
        "colab": {}
      },
      "source": [
        ""
      ],
      "execution_count": null,
      "outputs": []
    }
  ]
}